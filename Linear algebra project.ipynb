{
 "cells": [
  {
   "cell_type": "markdown",
   "metadata": {},
   "source": [
    "# Statement"
   ]
  },
  {
   "cell_type": "markdown",
   "metadata": {},
   "source": [
    "The Sure Tomorrow insurance company wants to solve several tasks with the help of Machine Learning and you are asked to evaluate that possibility.\n",
    "\n",
    "- Task 1: Find customers who are similar to a given customer. This will help the company's agents with marketing.\n",
    "- Task 2: Predict whether a new customer is likely to receive an insurance benefit. Can a prediction model do better than a dummy model?\n",
    "- Task 3: Predict the number of insurance benefits a new customer is likely to receive using a linear regression model.\n",
    "- Task 4: Protect clients' personal data without breaking the model from the previous task. It's necessary to develop a data transformation algorithm that would make it hard to recover personal information if the data fell into the wrong hands. This is called data masking, or data obfuscation. But the data should be protected in such a way that the quality of machine learning models doesn't suffer. You don't need to pick the best model, just prove that the algorithm works correctly."
   ]
  },
  {
   "cell_type": "markdown",
   "metadata": {},
   "source": [
    "# Data Preprocessing & Exploration\n",
    "\n",
    "## Initialization"
   ]
  },
  {
   "cell_type": "code",
   "execution_count": 61,
   "metadata": {},
   "outputs": [
    {
     "name": "stdout",
     "output_type": "stream",
     "text": [
      "\u001b[33mWARNING: Ignoring invalid distribution - (/opt/conda/lib/python3.9/site-packages)\u001b[0m\n",
      "\u001b[33mWARNING: Ignoring invalid distribution -cikit-learn (/opt/conda/lib/python3.9/site-packages)\u001b[0m\n",
      "\u001b[33mWARNING: Ignoring invalid distribution - (/opt/conda/lib/python3.9/site-packages)\u001b[0m\n",
      "\u001b[33mWARNING: Ignoring invalid distribution -cikit-learn (/opt/conda/lib/python3.9/site-packages)\u001b[0m\n",
      "Requirement already satisfied: scikit-learn in /opt/conda/lib/python3.9/site-packages (0.24.1)\n",
      "Collecting scikit-learn\n",
      "  Using cached scikit_learn-1.1.1-cp39-cp39-manylinux_2_17_x86_64.manylinux2014_x86_64.whl (30.8 MB)\n",
      "Requirement already satisfied: threadpoolctl>=2.0.0 in /opt/conda/lib/python3.9/site-packages (from scikit-learn) (3.1.0)\n",
      "Requirement already satisfied: scipy>=1.3.2 in /opt/conda/lib/python3.9/site-packages (from scikit-learn) (1.8.0)\n",
      "Requirement already satisfied: joblib>=1.0.0 in /opt/conda/lib/python3.9/site-packages (from scikit-learn) (1.1.0)\n",
      "Requirement already satisfied: numpy>=1.17.3 in /opt/conda/lib/python3.9/site-packages (from scikit-learn) (1.22.3)\n",
      "\u001b[33mWARNING: Ignoring invalid distribution - (/opt/conda/lib/python3.9/site-packages)\u001b[0m\n",
      "\u001b[33mWARNING: Ignoring invalid distribution -cikit-learn (/opt/conda/lib/python3.9/site-packages)\u001b[0m\n",
      "Installing collected packages: scikit-learn\n",
      "  Attempting uninstall: scikit-learn\n",
      "\u001b[33m    WARNING: Ignoring invalid distribution - (/opt/conda/lib/python3.9/site-packages)\u001b[0m\n",
      "\u001b[33m    WARNING: Ignoring invalid distribution -cikit-learn (/opt/conda/lib/python3.9/site-packages)\u001b[0m\n",
      "    Found existing installation: scikit-learn 0.24.1\n",
      "    Uninstalling scikit-learn-0.24.1:\n",
      "\u001b[31mERROR: Could not install packages due to an OSError: [Errno 13] Permission denied: 'COPYING'\n",
      "Consider using the `--user` option or check the permissions.\n",
      "\u001b[0m\n",
      "\u001b[33mWARNING: Ignoring invalid distribution - (/opt/conda/lib/python3.9/site-packages)\u001b[0m\n",
      "\u001b[33mWARNING: Ignoring invalid distribution -cikit-learn (/opt/conda/lib/python3.9/site-packages)\u001b[0m\n",
      "\u001b[33mWARNING: Ignoring invalid distribution - (/opt/conda/lib/python3.9/site-packages)\u001b[0m\n",
      "\u001b[33mWARNING: Ignoring invalid distribution -cikit-learn (/opt/conda/lib/python3.9/site-packages)\u001b[0m\n",
      "\u001b[33mWARNING: Ignoring invalid distribution - (/opt/conda/lib/python3.9/site-packages)\u001b[0m\n",
      "\u001b[33mWARNING: Ignoring invalid distribution -cikit-learn (/opt/conda/lib/python3.9/site-packages)\u001b[0m\n",
      "Note: you may need to restart the kernel to use updated packages.\n"
     ]
    }
   ],
   "source": [
    "pip install scikit-learn --upgrade"
   ]
  },
  {
   "cell_type": "code",
   "execution_count": 62,
   "metadata": {},
   "outputs": [],
   "source": [
    "import numpy as np\n",
    "import pandas as pd\n",
    "import matplotlib.pyplot as plt\n",
    "import seaborn as sns\n",
    "from math import sqrt\n",
    "import math\n",
    "\n",
    "\n",
    "import sklearn.linear_model\n",
    "import sklearn.metrics\n",
    "import sklearn.neighbors\n",
    "import sklearn.preprocessing\n",
    "\n",
    "from sklearn.model_selection import train_test_split\n",
    "\n",
    "from IPython.display import display\n",
    "from sklearn.neighbors import NearestNeighbors\n",
    "from sklearn.neighbors import KNeighborsClassifier"
   ]
  },
  {
   "cell_type": "markdown",
   "metadata": {},
   "source": [
    "## Load Data"
   ]
  },
  {
   "cell_type": "markdown",
   "metadata": {},
   "source": [
    "Load data and conduct a basic check that it's free from obvious issues."
   ]
  },
  {
   "cell_type": "code",
   "execution_count": 63,
   "metadata": {},
   "outputs": [],
   "source": [
    "df = pd.read_csv('/datasets/insurance_us.csv')"
   ]
  },
  {
   "cell_type": "markdown",
   "metadata": {},
   "source": [
    "We rename the colums to make the code look more consistent with its style."
   ]
  },
  {
   "cell_type": "code",
   "execution_count": 64,
   "metadata": {},
   "outputs": [],
   "source": [
    "df = df.rename(columns={'Gender': 'gender', 'Age': 'age', 'Salary': 'income', 'Family members': 'family_members', 'Insurance benefits': 'insurance_benefits'})"
   ]
  },
  {
   "cell_type": "code",
   "execution_count": 65,
   "metadata": {},
   "outputs": [
    {
     "data": {
      "text/html": [
       "<div>\n",
       "<style scoped>\n",
       "    .dataframe tbody tr th:only-of-type {\n",
       "        vertical-align: middle;\n",
       "    }\n",
       "\n",
       "    .dataframe tbody tr th {\n",
       "        vertical-align: top;\n",
       "    }\n",
       "\n",
       "    .dataframe thead th {\n",
       "        text-align: right;\n",
       "    }\n",
       "</style>\n",
       "<table border=\"1\" class=\"dataframe\">\n",
       "  <thead>\n",
       "    <tr style=\"text-align: right;\">\n",
       "      <th></th>\n",
       "      <th>gender</th>\n",
       "      <th>age</th>\n",
       "      <th>income</th>\n",
       "      <th>family_members</th>\n",
       "      <th>insurance_benefits</th>\n",
       "    </tr>\n",
       "  </thead>\n",
       "  <tbody>\n",
       "    <tr>\n",
       "      <th>1970</th>\n",
       "      <td>0</td>\n",
       "      <td>20.0</td>\n",
       "      <td>40400.0</td>\n",
       "      <td>2</td>\n",
       "      <td>0</td>\n",
       "    </tr>\n",
       "    <tr>\n",
       "      <th>555</th>\n",
       "      <td>0</td>\n",
       "      <td>20.0</td>\n",
       "      <td>40300.0</td>\n",
       "      <td>1</td>\n",
       "      <td>0</td>\n",
       "    </tr>\n",
       "    <tr>\n",
       "      <th>3565</th>\n",
       "      <td>1</td>\n",
       "      <td>28.0</td>\n",
       "      <td>30100.0</td>\n",
       "      <td>1</td>\n",
       "      <td>0</td>\n",
       "    </tr>\n",
       "    <tr>\n",
       "      <th>4915</th>\n",
       "      <td>0</td>\n",
       "      <td>19.0</td>\n",
       "      <td>37700.0</td>\n",
       "      <td>1</td>\n",
       "      <td>0</td>\n",
       "    </tr>\n",
       "    <tr>\n",
       "      <th>1438</th>\n",
       "      <td>0</td>\n",
       "      <td>43.0</td>\n",
       "      <td>45600.0</td>\n",
       "      <td>1</td>\n",
       "      <td>1</td>\n",
       "    </tr>\n",
       "    <tr>\n",
       "      <th>1721</th>\n",
       "      <td>1</td>\n",
       "      <td>29.0</td>\n",
       "      <td>27300.0</td>\n",
       "      <td>1</td>\n",
       "      <td>0</td>\n",
       "    </tr>\n",
       "    <tr>\n",
       "      <th>4916</th>\n",
       "      <td>1</td>\n",
       "      <td>24.0</td>\n",
       "      <td>46400.0</td>\n",
       "      <td>1</td>\n",
       "      <td>0</td>\n",
       "    </tr>\n",
       "    <tr>\n",
       "      <th>2221</th>\n",
       "      <td>0</td>\n",
       "      <td>32.0</td>\n",
       "      <td>10000.0</td>\n",
       "      <td>1</td>\n",
       "      <td>0</td>\n",
       "    </tr>\n",
       "    <tr>\n",
       "      <th>1528</th>\n",
       "      <td>1</td>\n",
       "      <td>27.0</td>\n",
       "      <td>36800.0</td>\n",
       "      <td>1</td>\n",
       "      <td>0</td>\n",
       "    </tr>\n",
       "    <tr>\n",
       "      <th>1744</th>\n",
       "      <td>1</td>\n",
       "      <td>40.0</td>\n",
       "      <td>41900.0</td>\n",
       "      <td>2</td>\n",
       "      <td>0</td>\n",
       "    </tr>\n",
       "  </tbody>\n",
       "</table>\n",
       "</div>"
      ],
      "text/plain": [
       "      gender   age   income  family_members  insurance_benefits\n",
       "1970       0  20.0  40400.0               2                   0\n",
       "555        0  20.0  40300.0               1                   0\n",
       "3565       1  28.0  30100.0               1                   0\n",
       "4915       0  19.0  37700.0               1                   0\n",
       "1438       0  43.0  45600.0               1                   1\n",
       "1721       1  29.0  27300.0               1                   0\n",
       "4916       1  24.0  46400.0               1                   0\n",
       "2221       0  32.0  10000.0               1                   0\n",
       "1528       1  27.0  36800.0               1                   0\n",
       "1744       1  40.0  41900.0               2                   0"
      ]
     },
     "execution_count": 65,
     "metadata": {},
     "output_type": "execute_result"
    }
   ],
   "source": [
    "df.sample(10)"
   ]
  },
  {
   "cell_type": "code",
   "execution_count": 66,
   "metadata": {},
   "outputs": [
    {
     "name": "stdout",
     "output_type": "stream",
     "text": [
      "<class 'pandas.core.frame.DataFrame'>\n",
      "RangeIndex: 5000 entries, 0 to 4999\n",
      "Data columns (total 5 columns):\n",
      " #   Column              Non-Null Count  Dtype  \n",
      "---  ------              --------------  -----  \n",
      " 0   gender              5000 non-null   int64  \n",
      " 1   age                 5000 non-null   float64\n",
      " 2   income              5000 non-null   float64\n",
      " 3   family_members      5000 non-null   int64  \n",
      " 4   insurance_benefits  5000 non-null   int64  \n",
      "dtypes: float64(2), int64(3)\n",
      "memory usage: 195.4 KB\n"
     ]
    }
   ],
   "source": [
    "df.info()"
   ]
  },
  {
   "cell_type": "code",
   "execution_count": 67,
   "metadata": {},
   "outputs": [],
   "source": [
    "to_int = ['age', 'family_members', 'insurance_benefits']\n",
    "df[to_int] = df[to_int].astype('int')"
   ]
  },
  {
   "cell_type": "code",
   "execution_count": 68,
   "metadata": {},
   "outputs": [
    {
     "name": "stdout",
     "output_type": "stream",
     "text": [
      "<class 'pandas.core.frame.DataFrame'>\n",
      "RangeIndex: 5000 entries, 0 to 4999\n",
      "Data columns (total 5 columns):\n",
      " #   Column              Non-Null Count  Dtype  \n",
      "---  ------              --------------  -----  \n",
      " 0   gender              5000 non-null   int64  \n",
      " 1   age                 5000 non-null   int64  \n",
      " 2   income              5000 non-null   float64\n",
      " 3   family_members      5000 non-null   int64  \n",
      " 4   insurance_benefits  5000 non-null   int64  \n",
      "dtypes: float64(1), int64(4)\n",
      "memory usage: 195.4 KB\n"
     ]
    }
   ],
   "source": [
    "df.info()"
   ]
  },
  {
   "cell_type": "code",
   "execution_count": 69,
   "metadata": {},
   "outputs": [
    {
     "data": {
      "text/plain": [
       "False    4847\n",
       "True      153\n",
       "dtype: int64"
      ]
     },
     "execution_count": 69,
     "metadata": {},
     "output_type": "execute_result"
    }
   ],
   "source": [
    "df.duplicated().value_counts()"
   ]
  },
  {
   "cell_type": "code",
   "execution_count": 70,
   "metadata": {},
   "outputs": [],
   "source": [
    "df.drop_duplicates(inplace=True)\n",
    "df.reset_index(inplace=True, drop=True)"
   ]
  },
  {
   "cell_type": "code",
   "execution_count": 71,
   "metadata": {},
   "outputs": [
    {
     "name": "stdout",
     "output_type": "stream",
     "text": [
      "<class 'pandas.core.frame.DataFrame'>\n",
      "RangeIndex: 4847 entries, 0 to 4846\n",
      "Data columns (total 5 columns):\n",
      " #   Column              Non-Null Count  Dtype  \n",
      "---  ------              --------------  -----  \n",
      " 0   gender              4847 non-null   int64  \n",
      " 1   age                 4847 non-null   int64  \n",
      " 2   income              4847 non-null   float64\n",
      " 3   family_members      4847 non-null   int64  \n",
      " 4   insurance_benefits  4847 non-null   int64  \n",
      "dtypes: float64(1), int64(4)\n",
      "memory usage: 189.5 KB\n"
     ]
    }
   ],
   "source": [
    "df.info()"
   ]
  },
  {
   "cell_type": "code",
   "execution_count": 72,
   "metadata": {},
   "outputs": [
    {
     "data": {
      "text/html": [
       "<div>\n",
       "<style scoped>\n",
       "    .dataframe tbody tr th:only-of-type {\n",
       "        vertical-align: middle;\n",
       "    }\n",
       "\n",
       "    .dataframe tbody tr th {\n",
       "        vertical-align: top;\n",
       "    }\n",
       "\n",
       "    .dataframe thead th {\n",
       "        text-align: right;\n",
       "    }\n",
       "</style>\n",
       "<table border=\"1\" class=\"dataframe\">\n",
       "  <thead>\n",
       "    <tr style=\"text-align: right;\">\n",
       "      <th></th>\n",
       "      <th>gender</th>\n",
       "      <th>age</th>\n",
       "      <th>income</th>\n",
       "      <th>family_members</th>\n",
       "      <th>insurance_benefits</th>\n",
       "    </tr>\n",
       "  </thead>\n",
       "  <tbody>\n",
       "    <tr>\n",
       "      <th>count</th>\n",
       "      <td>4847.000000</td>\n",
       "      <td>4847.000000</td>\n",
       "      <td>4847.000000</td>\n",
       "      <td>4847.000000</td>\n",
       "      <td>4847.000000</td>\n",
       "    </tr>\n",
       "    <tr>\n",
       "      <th>mean</th>\n",
       "      <td>0.498453</td>\n",
       "      <td>31.023932</td>\n",
       "      <td>39895.811842</td>\n",
       "      <td>1.203425</td>\n",
       "      <td>0.152259</td>\n",
       "    </tr>\n",
       "    <tr>\n",
       "      <th>std</th>\n",
       "      <td>0.500049</td>\n",
       "      <td>8.487995</td>\n",
       "      <td>9972.953985</td>\n",
       "      <td>1.098664</td>\n",
       "      <td>0.468934</td>\n",
       "    </tr>\n",
       "    <tr>\n",
       "      <th>min</th>\n",
       "      <td>0.000000</td>\n",
       "      <td>18.000000</td>\n",
       "      <td>5300.000000</td>\n",
       "      <td>0.000000</td>\n",
       "      <td>0.000000</td>\n",
       "    </tr>\n",
       "    <tr>\n",
       "      <th>25%</th>\n",
       "      <td>0.000000</td>\n",
       "      <td>24.000000</td>\n",
       "      <td>33200.000000</td>\n",
       "      <td>0.000000</td>\n",
       "      <td>0.000000</td>\n",
       "    </tr>\n",
       "    <tr>\n",
       "      <th>50%</th>\n",
       "      <td>0.000000</td>\n",
       "      <td>30.000000</td>\n",
       "      <td>40200.000000</td>\n",
       "      <td>1.000000</td>\n",
       "      <td>0.000000</td>\n",
       "    </tr>\n",
       "    <tr>\n",
       "      <th>75%</th>\n",
       "      <td>1.000000</td>\n",
       "      <td>37.000000</td>\n",
       "      <td>46600.000000</td>\n",
       "      <td>2.000000</td>\n",
       "      <td>0.000000</td>\n",
       "    </tr>\n",
       "    <tr>\n",
       "      <th>max</th>\n",
       "      <td>1.000000</td>\n",
       "      <td>65.000000</td>\n",
       "      <td>79000.000000</td>\n",
       "      <td>6.000000</td>\n",
       "      <td>5.000000</td>\n",
       "    </tr>\n",
       "  </tbody>\n",
       "</table>\n",
       "</div>"
      ],
      "text/plain": [
       "            gender          age        income  family_members  \\\n",
       "count  4847.000000  4847.000000   4847.000000     4847.000000   \n",
       "mean      0.498453    31.023932  39895.811842        1.203425   \n",
       "std       0.500049     8.487995   9972.953985        1.098664   \n",
       "min       0.000000    18.000000   5300.000000        0.000000   \n",
       "25%       0.000000    24.000000  33200.000000        0.000000   \n",
       "50%       0.000000    30.000000  40200.000000        1.000000   \n",
       "75%       1.000000    37.000000  46600.000000        2.000000   \n",
       "max       1.000000    65.000000  79000.000000        6.000000   \n",
       "\n",
       "       insurance_benefits  \n",
       "count         4847.000000  \n",
       "mean             0.152259  \n",
       "std              0.468934  \n",
       "min              0.000000  \n",
       "25%              0.000000  \n",
       "50%              0.000000  \n",
       "75%              0.000000  \n",
       "max              5.000000  "
      ]
     },
     "execution_count": 72,
     "metadata": {},
     "output_type": "execute_result"
    }
   ],
   "source": [
    "df.describe()"
   ]
  },
  {
   "cell_type": "markdown",
   "metadata": {},
   "source": [
    "### Conclusion"
   ]
  },
  {
   "cell_type": "markdown",
   "metadata": {},
   "source": [
    "The dataset given has a 5 columns and 5000 rows. Upon checkin I changed the name of colums(made them in low register for convenience), converted columns age, family memebers and insurance benefits to int type, also droped duplicates from the dataset. Dataset hasn't missing values as well as abnormal values, which we can see from the info and describe methods. Data set is ready for further work."
   ]
  },
  {
   "cell_type": "markdown",
   "metadata": {},
   "source": [
    "## EDA"
   ]
  },
  {
   "cell_type": "markdown",
   "metadata": {},
   "source": [
    "Let's quickly check whether there are certain groups of customers by looking at the pair plot."
   ]
  },
  {
   "cell_type": "code",
   "execution_count": 73,
   "metadata": {},
   "outputs": [
    {
     "data": {
      "image/png": "[encoded data removed]",
      "text/plain": [
       "<Figure size 864x864 with 30 Axes>"
      ]
     },
     "metadata": {
      "needs_background": "light"
     },
     "output_type": "display_data"
    }
   ],
   "source": [
    "g = sns.pairplot(df, kind='hist')\n",
    "g.fig.set_size_inches(12, 12)"
   ]
  },
  {
   "cell_type": "markdown",
   "metadata": {},
   "source": [
    "Ok, it is a bit difficult to spot obvious groups (clusters) as it is difficult to combine several variables simultaneously (to analyze multivariate distributions). That's where LA and ML can be quite handy."
   ]
  },
  {
   "cell_type": "markdown",
   "metadata": {},
   "source": [
    "# Task 1. Similar Customers"
   ]
  },
  {
   "cell_type": "markdown",
   "metadata": {},
   "source": [
    "In the language of ML, it is necessary to develop a procedure that returns k nearest neighbors (objects) for a given object based on the distance between the objects.\n",
    "\n",
    "You may want to review the following lessons (chapter -> lesson)\n",
    "- Distance Between Vectors -> Euclidean Distance\n",
    "- Distance Between Vectors -> Manhattan Distance\n",
    "\n",
    "To solve the task, we can try different distance metrics."
   ]
  },
  {
   "cell_type": "markdown",
   "metadata": {},
   "source": [
    "Write a function that returns k nearest neighbors for an $n^{th}$ object based on a specified distance metric. The number of received insurance benefits should not be taken into account for this task. \n",
    "\n",
    "You can use a ready implementation of the kNN algorithm from scikit-learn (check [the link](https://scikit-learn.org/stable/modules/generated/sklearn.neighbors.NearestNeighbors.html#sklearn.neighbors.NearestNeighbors)) or use your own.\n",
    "\n",
    "Test it for four combination of two cases\n",
    "- Scaling\n",
    "  - the data is not scaled\n",
    "  - the data is scaled with the [MaxAbsScaler](https://scikit-learn.org/stable/modules/generated/sklearn.preprocessing.MaxAbsScaler.html) scaler\n",
    "- Distance Metrics\n",
    "  - Euclidean\n",
    "  - Manhattan\n",
    "\n",
    "Answer these questions:\n",
    "- Does the data being not scaled affect the kNN algorithm? If so, how does that appear?\n",
    "- How similar are the results using the Manhattan distance metric (regardless of the scaling)?"
   ]
  },
  {
   "cell_type": "code",
   "execution_count": 74,
   "metadata": {},
   "outputs": [],
   "source": [
    "feature_names = ['gender', 'age', 'income', 'family_members']"
   ]
  },
  {
   "cell_type": "code",
   "execution_count": 75,
   "metadata": {},
   "outputs": [],
   "source": [
    "def get_knn(df, n, k, metric):\n",
    "    \n",
    "    \"\"\"\n",
    "    Returns k nearest neighbors\n",
    "\n",
    "    :param df: pandas DataFrame used to find similar objects within\n",
    "    :param n: object no for which the nearest neighbours are looked for\n",
    "    :param k: the number of the nearest neighbours to return\n",
    "    :param metric: name of distance metric\n",
    "    \"\"\"\n",
    "\n",
    "    nbrs = NearestNeighbors(n_neighbors=k, metric=metric).fit(df[feature_names]) \n",
    "    nbrs_distances, nbrs_indices = nbrs.kneighbors([df.iloc[n][feature_names]], k, return_distance=True)\n",
    "    \n",
    "    df_res = pd.concat([\n",
    "        df.iloc[nbrs_indices[0]], \n",
    "        pd.DataFrame(nbrs_distances.T, index=nbrs_indices[0], columns=['distance'])\n",
    "        ], axis=1)\n",
    "    \n",
    "    return df_res"
   ]
  },
  {
   "cell_type": "markdown",
   "metadata": {},
   "source": [
    "Scaling the data."
   ]
  },
  {
   "cell_type": "code",
   "execution_count": 76,
   "metadata": {},
   "outputs": [],
   "source": [
    "feature_names = ['gender', 'age', 'income', 'family_members']\n",
    "\n",
    "transformer_mas = sklearn.preprocessing.MaxAbsScaler().fit(df[feature_names].to_numpy())\n",
    "\n",
    "df_scaled = df.copy()\n",
    "df_scaled.loc[:, feature_names] = transformer_mas.transform(df[feature_names].to_numpy())"
   ]
  },
  {
   "cell_type": "code",
   "execution_count": 77,
   "metadata": {},
   "outputs": [
    {
     "data": {
      "text/html": [
       "<div>\n",
       "<style scoped>\n",
       "    .dataframe tbody tr th:only-of-type {\n",
       "        vertical-align: middle;\n",
       "    }\n",
       "\n",
       "    .dataframe tbody tr th {\n",
       "        vertical-align: top;\n",
       "    }\n",
       "\n",
       "    .dataframe thead th {\n",
       "        text-align: right;\n",
       "    }\n",
       "</style>\n",
       "<table border=\"1\" class=\"dataframe\">\n",
       "  <thead>\n",
       "    <tr style=\"text-align: right;\">\n",
       "      <th></th>\n",
       "      <th>gender</th>\n",
       "      <th>age</th>\n",
       "      <th>income</th>\n",
       "      <th>family_members</th>\n",
       "      <th>insurance_benefits</th>\n",
       "    </tr>\n",
       "  </thead>\n",
       "  <tbody>\n",
       "    <tr>\n",
       "      <th>1553</th>\n",
       "      <td>0.0</td>\n",
       "      <td>0.569231</td>\n",
       "      <td>0.288608</td>\n",
       "      <td>0.000000</td>\n",
       "      <td>0</td>\n",
       "    </tr>\n",
       "    <tr>\n",
       "      <th>2760</th>\n",
       "      <td>0.0</td>\n",
       "      <td>0.369231</td>\n",
       "      <td>0.572152</td>\n",
       "      <td>0.000000</td>\n",
       "      <td>0</td>\n",
       "    </tr>\n",
       "    <tr>\n",
       "      <th>3020</th>\n",
       "      <td>1.0</td>\n",
       "      <td>0.400000</td>\n",
       "      <td>0.531646</td>\n",
       "      <td>0.000000</td>\n",
       "      <td>0</td>\n",
       "    </tr>\n",
       "    <tr>\n",
       "      <th>672</th>\n",
       "      <td>1.0</td>\n",
       "      <td>0.600000</td>\n",
       "      <td>0.449367</td>\n",
       "      <td>0.333333</td>\n",
       "      <td>0</td>\n",
       "    </tr>\n",
       "    <tr>\n",
       "      <th>2200</th>\n",
       "      <td>0.0</td>\n",
       "      <td>0.461538</td>\n",
       "      <td>0.550633</td>\n",
       "      <td>0.333333</td>\n",
       "      <td>0</td>\n",
       "    </tr>\n",
       "  </tbody>\n",
       "</table>\n",
       "</div>"
      ],
      "text/plain": [
       "      gender       age    income  family_members  insurance_benefits\n",
       "1553     0.0  0.569231  0.288608        0.000000                   0\n",
       "2760     0.0  0.369231  0.572152        0.000000                   0\n",
       "3020     1.0  0.400000  0.531646        0.000000                   0\n",
       "672      1.0  0.600000  0.449367        0.333333                   0\n",
       "2200     0.0  0.461538  0.550633        0.333333                   0"
      ]
     },
     "execution_count": 77,
     "metadata": {},
     "output_type": "execute_result"
    }
   ],
   "source": [
    "df_scaled.sample(5)"
   ]
  },
  {
   "cell_type": "markdown",
   "metadata": {},
   "source": [
    "Now, let's get similar records for a given one for every combination"
   ]
  },
  {
   "cell_type": "markdown",
   "metadata": {},
   "source": [
    "**1. Not scaled manhatten distance**"
   ]
  },
  {
   "cell_type": "code",
   "execution_count": 78,
   "metadata": {},
   "outputs": [
    {
     "data": {
      "text/html": [
       "<div>\n",
       "<style scoped>\n",
       "    .dataframe tbody tr th:only-of-type {\n",
       "        vertical-align: middle;\n",
       "    }\n",
       "\n",
       "    .dataframe tbody tr th {\n",
       "        vertical-align: top;\n",
       "    }\n",
       "\n",
       "    .dataframe thead th {\n",
       "        text-align: right;\n",
       "    }\n",
       "</style>\n",
       "<table border=\"1\" class=\"dataframe\">\n",
       "  <thead>\n",
       "    <tr style=\"text-align: right;\">\n",
       "      <th></th>\n",
       "      <th>gender</th>\n",
       "      <th>age</th>\n",
       "      <th>income</th>\n",
       "      <th>family_members</th>\n",
       "      <th>insurance_benefits</th>\n",
       "      <th>distance</th>\n",
       "    </tr>\n",
       "  </thead>\n",
       "  <tbody>\n",
       "    <tr>\n",
       "      <th>0</th>\n",
       "      <td>1</td>\n",
       "      <td>41</td>\n",
       "      <td>49600.0</td>\n",
       "      <td>1</td>\n",
       "      <td>0</td>\n",
       "      <td>0.0</td>\n",
       "    </tr>\n",
       "    <tr>\n",
       "      <th>1992</th>\n",
       "      <td>1</td>\n",
       "      <td>41</td>\n",
       "      <td>49600.0</td>\n",
       "      <td>0</td>\n",
       "      <td>0</td>\n",
       "      <td>1.0</td>\n",
       "    </tr>\n",
       "    <tr>\n",
       "      <th>1214</th>\n",
       "      <td>0</td>\n",
       "      <td>42</td>\n",
       "      <td>49600.0</td>\n",
       "      <td>0</td>\n",
       "      <td>1</td>\n",
       "      <td>3.0</td>\n",
       "    </tr>\n",
       "    <tr>\n",
       "      <th>3916</th>\n",
       "      <td>1</td>\n",
       "      <td>44</td>\n",
       "      <td>49600.0</td>\n",
       "      <td>2</td>\n",
       "      <td>1</td>\n",
       "      <td>4.0</td>\n",
       "    </tr>\n",
       "    <tr>\n",
       "      <th>3334</th>\n",
       "      <td>0</td>\n",
       "      <td>38</td>\n",
       "      <td>49600.0</td>\n",
       "      <td>0</td>\n",
       "      <td>0</td>\n",
       "      <td>5.0</td>\n",
       "    </tr>\n",
       "    <tr>\n",
       "      <th>810</th>\n",
       "      <td>1</td>\n",
       "      <td>37</td>\n",
       "      <td>49600.0</td>\n",
       "      <td>2</td>\n",
       "      <td>0</td>\n",
       "      <td>5.0</td>\n",
       "    </tr>\n",
       "    <tr>\n",
       "      <th>4520</th>\n",
       "      <td>0</td>\n",
       "      <td>45</td>\n",
       "      <td>49600.0</td>\n",
       "      <td>0</td>\n",
       "      <td>1</td>\n",
       "      <td>6.0</td>\n",
       "    </tr>\n",
       "    <tr>\n",
       "      <th>2094</th>\n",
       "      <td>0</td>\n",
       "      <td>37</td>\n",
       "      <td>49600.0</td>\n",
       "      <td>2</td>\n",
       "      <td>0</td>\n",
       "      <td>6.0</td>\n",
       "    </tr>\n",
       "    <tr>\n",
       "      <th>2311</th>\n",
       "      <td>1</td>\n",
       "      <td>46</td>\n",
       "      <td>49600.0</td>\n",
       "      <td>2</td>\n",
       "      <td>1</td>\n",
       "      <td>6.0</td>\n",
       "    </tr>\n",
       "    <tr>\n",
       "      <th>3790</th>\n",
       "      <td>1</td>\n",
       "      <td>36</td>\n",
       "      <td>49600.0</td>\n",
       "      <td>0</td>\n",
       "      <td>0</td>\n",
       "      <td>6.0</td>\n",
       "    </tr>\n",
       "  </tbody>\n",
       "</table>\n",
       "</div>"
      ],
      "text/plain": [
       "      gender  age   income  family_members  insurance_benefits  distance\n",
       "0          1   41  49600.0               1                   0       0.0\n",
       "1992       1   41  49600.0               0                   0       1.0\n",
       "1214       0   42  49600.0               0                   1       3.0\n",
       "3916       1   44  49600.0               2                   1       4.0\n",
       "3334       0   38  49600.0               0                   0       5.0\n",
       "810        1   37  49600.0               2                   0       5.0\n",
       "4520       0   45  49600.0               0                   1       6.0\n",
       "2094       0   37  49600.0               2                   0       6.0\n",
       "2311       1   46  49600.0               2                   1       6.0\n",
       "3790       1   36  49600.0               0                   0       6.0"
      ]
     },
     "execution_count": 78,
     "metadata": {},
     "output_type": "execute_result"
    }
   ],
   "source": [
    "get_knn(df, 0, 10, 'cityblock')"
   ]
  },
  {
   "cell_type": "markdown",
   "metadata": {},
   "source": [
    "**2. Not scaled euclidean distance**"
   ]
  },
  {
   "cell_type": "code",
   "execution_count": 79,
   "metadata": {},
   "outputs": [
    {
     "data": {
      "text/html": [
       "<div>\n",
       "<style scoped>\n",
       "    .dataframe tbody tr th:only-of-type {\n",
       "        vertical-align: middle;\n",
       "    }\n",
       "\n",
       "    .dataframe tbody tr th {\n",
       "        vertical-align: top;\n",
       "    }\n",
       "\n",
       "    .dataframe thead th {\n",
       "        text-align: right;\n",
       "    }\n",
       "</style>\n",
       "<table border=\"1\" class=\"dataframe\">\n",
       "  <thead>\n",
       "    <tr style=\"text-align: right;\">\n",
       "      <th></th>\n",
       "      <th>gender</th>\n",
       "      <th>age</th>\n",
       "      <th>income</th>\n",
       "      <th>family_members</th>\n",
       "      <th>insurance_benefits</th>\n",
       "      <th>distance</th>\n",
       "    </tr>\n",
       "  </thead>\n",
       "  <tbody>\n",
       "    <tr>\n",
       "      <th>0</th>\n",
       "      <td>1</td>\n",
       "      <td>41</td>\n",
       "      <td>49600.0</td>\n",
       "      <td>1</td>\n",
       "      <td>0</td>\n",
       "      <td>0.000000</td>\n",
       "    </tr>\n",
       "    <tr>\n",
       "      <th>1992</th>\n",
       "      <td>1</td>\n",
       "      <td>41</td>\n",
       "      <td>49600.0</td>\n",
       "      <td>0</td>\n",
       "      <td>0</td>\n",
       "      <td>1.000000</td>\n",
       "    </tr>\n",
       "    <tr>\n",
       "      <th>1214</th>\n",
       "      <td>0</td>\n",
       "      <td>42</td>\n",
       "      <td>49600.0</td>\n",
       "      <td>0</td>\n",
       "      <td>1</td>\n",
       "      <td>1.732051</td>\n",
       "    </tr>\n",
       "    <tr>\n",
       "      <th>3916</th>\n",
       "      <td>1</td>\n",
       "      <td>44</td>\n",
       "      <td>49600.0</td>\n",
       "      <td>2</td>\n",
       "      <td>1</td>\n",
       "      <td>3.162278</td>\n",
       "    </tr>\n",
       "    <tr>\n",
       "      <th>3334</th>\n",
       "      <td>0</td>\n",
       "      <td>38</td>\n",
       "      <td>49600.0</td>\n",
       "      <td>0</td>\n",
       "      <td>0</td>\n",
       "      <td>3.316625</td>\n",
       "    </tr>\n",
       "    <tr>\n",
       "      <th>810</th>\n",
       "      <td>1</td>\n",
       "      <td>37</td>\n",
       "      <td>49600.0</td>\n",
       "      <td>2</td>\n",
       "      <td>0</td>\n",
       "      <td>4.123106</td>\n",
       "    </tr>\n",
       "    <tr>\n",
       "      <th>4520</th>\n",
       "      <td>0</td>\n",
       "      <td>45</td>\n",
       "      <td>49600.0</td>\n",
       "      <td>0</td>\n",
       "      <td>1</td>\n",
       "      <td>4.242641</td>\n",
       "    </tr>\n",
       "    <tr>\n",
       "      <th>2094</th>\n",
       "      <td>0</td>\n",
       "      <td>37</td>\n",
       "      <td>49600.0</td>\n",
       "      <td>2</td>\n",
       "      <td>0</td>\n",
       "      <td>4.242641</td>\n",
       "    </tr>\n",
       "    <tr>\n",
       "      <th>3790</th>\n",
       "      <td>1</td>\n",
       "      <td>36</td>\n",
       "      <td>49600.0</td>\n",
       "      <td>0</td>\n",
       "      <td>0</td>\n",
       "      <td>5.099020</td>\n",
       "    </tr>\n",
       "    <tr>\n",
       "      <th>2311</th>\n",
       "      <td>1</td>\n",
       "      <td>46</td>\n",
       "      <td>49600.0</td>\n",
       "      <td>2</td>\n",
       "      <td>1</td>\n",
       "      <td>5.099020</td>\n",
       "    </tr>\n",
       "  </tbody>\n",
       "</table>\n",
       "</div>"
      ],
      "text/plain": [
       "      gender  age   income  family_members  insurance_benefits  distance\n",
       "0          1   41  49600.0               1                   0  0.000000\n",
       "1992       1   41  49600.0               0                   0  1.000000\n",
       "1214       0   42  49600.0               0                   1  1.732051\n",
       "3916       1   44  49600.0               2                   1  3.162278\n",
       "3334       0   38  49600.0               0                   0  3.316625\n",
       "810        1   37  49600.0               2                   0  4.123106\n",
       "4520       0   45  49600.0               0                   1  4.242641\n",
       "2094       0   37  49600.0               2                   0  4.242641\n",
       "3790       1   36  49600.0               0                   0  5.099020\n",
       "2311       1   46  49600.0               2                   1  5.099020"
      ]
     },
     "execution_count": 79,
     "metadata": {},
     "output_type": "execute_result"
    }
   ],
   "source": [
    "get_knn(df, 0, 10, 'euclidean')"
   ]
  },
  {
   "cell_type": "markdown",
   "metadata": {},
   "source": [
    "**3. Scaled manhatten distance**"
   ]
  },
  {
   "cell_type": "code",
   "execution_count": 80,
   "metadata": {},
   "outputs": [
    {
     "data": {
      "text/html": [
       "<div>\n",
       "<style scoped>\n",
       "    .dataframe tbody tr th:only-of-type {\n",
       "        vertical-align: middle;\n",
       "    }\n",
       "\n",
       "    .dataframe tbody tr th {\n",
       "        vertical-align: top;\n",
       "    }\n",
       "\n",
       "    .dataframe thead th {\n",
       "        text-align: right;\n",
       "    }\n",
       "</style>\n",
       "<table border=\"1\" class=\"dataframe\">\n",
       "  <thead>\n",
       "    <tr style=\"text-align: right;\">\n",
       "      <th></th>\n",
       "      <th>gender</th>\n",
       "      <th>age</th>\n",
       "      <th>income</th>\n",
       "      <th>family_members</th>\n",
       "      <th>insurance_benefits</th>\n",
       "      <th>distance</th>\n",
       "    </tr>\n",
       "  </thead>\n",
       "  <tbody>\n",
       "    <tr>\n",
       "      <th>0</th>\n",
       "      <td>1.0</td>\n",
       "      <td>0.630769</td>\n",
       "      <td>0.627848</td>\n",
       "      <td>0.166667</td>\n",
       "      <td>0</td>\n",
       "      <td>0.000000</td>\n",
       "    </tr>\n",
       "    <tr>\n",
       "      <th>2632</th>\n",
       "      <td>1.0</td>\n",
       "      <td>0.630769</td>\n",
       "      <td>0.634177</td>\n",
       "      <td>0.166667</td>\n",
       "      <td>0</td>\n",
       "      <td>0.006329</td>\n",
       "    </tr>\n",
       "    <tr>\n",
       "      <th>133</th>\n",
       "      <td>1.0</td>\n",
       "      <td>0.615385</td>\n",
       "      <td>0.636709</td>\n",
       "      <td>0.166667</td>\n",
       "      <td>0</td>\n",
       "      <td>0.024245</td>\n",
       "    </tr>\n",
       "    <tr>\n",
       "      <th>4720</th>\n",
       "      <td>1.0</td>\n",
       "      <td>0.646154</td>\n",
       "      <td>0.637975</td>\n",
       "      <td>0.166667</td>\n",
       "      <td>1</td>\n",
       "      <td>0.025511</td>\n",
       "    </tr>\n",
       "    <tr>\n",
       "      <th>2072</th>\n",
       "      <td>1.0</td>\n",
       "      <td>0.630769</td>\n",
       "      <td>0.596203</td>\n",
       "      <td>0.166667</td>\n",
       "      <td>0</td>\n",
       "      <td>0.031646</td>\n",
       "    </tr>\n",
       "    <tr>\n",
       "      <th>124</th>\n",
       "      <td>1.0</td>\n",
       "      <td>0.661538</td>\n",
       "      <td>0.635443</td>\n",
       "      <td>0.166667</td>\n",
       "      <td>1</td>\n",
       "      <td>0.038364</td>\n",
       "    </tr>\n",
       "    <tr>\n",
       "      <th>4173</th>\n",
       "      <td>1.0</td>\n",
       "      <td>0.630769</td>\n",
       "      <td>0.588608</td>\n",
       "      <td>0.166667</td>\n",
       "      <td>0</td>\n",
       "      <td>0.039241</td>\n",
       "    </tr>\n",
       "    <tr>\n",
       "      <th>3192</th>\n",
       "      <td>1.0</td>\n",
       "      <td>0.646154</td>\n",
       "      <td>0.651899</td>\n",
       "      <td>0.166667</td>\n",
       "      <td>1</td>\n",
       "      <td>0.039435</td>\n",
       "    </tr>\n",
       "    <tr>\n",
       "      <th>1550</th>\n",
       "      <td>1.0</td>\n",
       "      <td>0.615385</td>\n",
       "      <td>0.602532</td>\n",
       "      <td>0.166667</td>\n",
       "      <td>0</td>\n",
       "      <td>0.040701</td>\n",
       "    </tr>\n",
       "    <tr>\n",
       "      <th>3541</th>\n",
       "      <td>1.0</td>\n",
       "      <td>0.615385</td>\n",
       "      <td>0.600000</td>\n",
       "      <td>0.166667</td>\n",
       "      <td>0</td>\n",
       "      <td>0.043233</td>\n",
       "    </tr>\n",
       "  </tbody>\n",
       "</table>\n",
       "</div>"
      ],
      "text/plain": [
       "      gender       age    income  family_members  insurance_benefits  distance\n",
       "0        1.0  0.630769  0.627848        0.166667                   0  0.000000\n",
       "2632     1.0  0.630769  0.634177        0.166667                   0  0.006329\n",
       "133      1.0  0.615385  0.636709        0.166667                   0  0.024245\n",
       "4720     1.0  0.646154  0.637975        0.166667                   1  0.025511\n",
       "2072     1.0  0.630769  0.596203        0.166667                   0  0.031646\n",
       "124      1.0  0.661538  0.635443        0.166667                   1  0.038364\n",
       "4173     1.0  0.630769  0.588608        0.166667                   0  0.039241\n",
       "3192     1.0  0.646154  0.651899        0.166667                   1  0.039435\n",
       "1550     1.0  0.615385  0.602532        0.166667                   0  0.040701\n",
       "3541     1.0  0.615385  0.600000        0.166667                   0  0.043233"
      ]
     },
     "execution_count": 80,
     "metadata": {},
     "output_type": "execute_result"
    }
   ],
   "source": [
    "get_knn(df_scaled, 0, 10, 'cityblock')"
   ]
  },
  {
   "cell_type": "markdown",
   "metadata": {},
   "source": [
    "**4. Scaled euclidean distance**"
   ]
  },
  {
   "cell_type": "code",
   "execution_count": 81,
   "metadata": {},
   "outputs": [
    {
     "data": {
      "text/html": [
       "<div>\n",
       "<style scoped>\n",
       "    .dataframe tbody tr th:only-of-type {\n",
       "        vertical-align: middle;\n",
       "    }\n",
       "\n",
       "    .dataframe tbody tr th {\n",
       "        vertical-align: top;\n",
       "    }\n",
       "\n",
       "    .dataframe thead th {\n",
       "        text-align: right;\n",
       "    }\n",
       "</style>\n",
       "<table border=\"1\" class=\"dataframe\">\n",
       "  <thead>\n",
       "    <tr style=\"text-align: right;\">\n",
       "      <th></th>\n",
       "      <th>gender</th>\n",
       "      <th>age</th>\n",
       "      <th>income</th>\n",
       "      <th>family_members</th>\n",
       "      <th>insurance_benefits</th>\n",
       "      <th>distance</th>\n",
       "    </tr>\n",
       "  </thead>\n",
       "  <tbody>\n",
       "    <tr>\n",
       "      <th>0</th>\n",
       "      <td>1.0</td>\n",
       "      <td>0.630769</td>\n",
       "      <td>0.627848</td>\n",
       "      <td>0.166667</td>\n",
       "      <td>0</td>\n",
       "      <td>0.000000</td>\n",
       "    </tr>\n",
       "    <tr>\n",
       "      <th>2632</th>\n",
       "      <td>1.0</td>\n",
       "      <td>0.630769</td>\n",
       "      <td>0.634177</td>\n",
       "      <td>0.166667</td>\n",
       "      <td>0</td>\n",
       "      <td>0.006329</td>\n",
       "    </tr>\n",
       "    <tr>\n",
       "      <th>133</th>\n",
       "      <td>1.0</td>\n",
       "      <td>0.615385</td>\n",
       "      <td>0.636709</td>\n",
       "      <td>0.166667</td>\n",
       "      <td>0</td>\n",
       "      <td>0.017754</td>\n",
       "    </tr>\n",
       "    <tr>\n",
       "      <th>4720</th>\n",
       "      <td>1.0</td>\n",
       "      <td>0.646154</td>\n",
       "      <td>0.637975</td>\n",
       "      <td>0.166667</td>\n",
       "      <td>1</td>\n",
       "      <td>0.018418</td>\n",
       "    </tr>\n",
       "    <tr>\n",
       "      <th>3192</th>\n",
       "      <td>1.0</td>\n",
       "      <td>0.646154</td>\n",
       "      <td>0.651899</td>\n",
       "      <td>0.166667</td>\n",
       "      <td>1</td>\n",
       "      <td>0.028550</td>\n",
       "    </tr>\n",
       "    <tr>\n",
       "      <th>1550</th>\n",
       "      <td>1.0</td>\n",
       "      <td>0.615385</td>\n",
       "      <td>0.602532</td>\n",
       "      <td>0.166667</td>\n",
       "      <td>0</td>\n",
       "      <td>0.029624</td>\n",
       "    </tr>\n",
       "    <tr>\n",
       "      <th>2072</th>\n",
       "      <td>1.0</td>\n",
       "      <td>0.630769</td>\n",
       "      <td>0.596203</td>\n",
       "      <td>0.166667</td>\n",
       "      <td>0</td>\n",
       "      <td>0.031646</td>\n",
       "    </tr>\n",
       "    <tr>\n",
       "      <th>124</th>\n",
       "      <td>1.0</td>\n",
       "      <td>0.661538</td>\n",
       "      <td>0.635443</td>\n",
       "      <td>0.166667</td>\n",
       "      <td>1</td>\n",
       "      <td>0.031693</td>\n",
       "    </tr>\n",
       "    <tr>\n",
       "      <th>3541</th>\n",
       "      <td>1.0</td>\n",
       "      <td>0.615385</td>\n",
       "      <td>0.600000</td>\n",
       "      <td>0.166667</td>\n",
       "      <td>0</td>\n",
       "      <td>0.031815</td>\n",
       "    </tr>\n",
       "    <tr>\n",
       "      <th>3099</th>\n",
       "      <td>1.0</td>\n",
       "      <td>0.600000</td>\n",
       "      <td>0.611392</td>\n",
       "      <td>0.166667</td>\n",
       "      <td>0</td>\n",
       "      <td>0.034893</td>\n",
       "    </tr>\n",
       "  </tbody>\n",
       "</table>\n",
       "</div>"
      ],
      "text/plain": [
       "      gender       age    income  family_members  insurance_benefits  distance\n",
       "0        1.0  0.630769  0.627848        0.166667                   0  0.000000\n",
       "2632     1.0  0.630769  0.634177        0.166667                   0  0.006329\n",
       "133      1.0  0.615385  0.636709        0.166667                   0  0.017754\n",
       "4720     1.0  0.646154  0.637975        0.166667                   1  0.018418\n",
       "3192     1.0  0.646154  0.651899        0.166667                   1  0.028550\n",
       "1550     1.0  0.615385  0.602532        0.166667                   0  0.029624\n",
       "2072     1.0  0.630769  0.596203        0.166667                   0  0.031646\n",
       "124      1.0  0.661538  0.635443        0.166667                   1  0.031693\n",
       "3541     1.0  0.615385  0.600000        0.166667                   0  0.031815\n",
       "3099     1.0  0.600000  0.611392        0.166667                   0  0.034893"
      ]
     },
     "execution_count": 81,
     "metadata": {},
     "output_type": "execute_result"
    }
   ],
   "source": [
    "get_knn(df_scaled, 0, 10, 'euclidean')"
   ]
  },
  {
   "cell_type": "code",
   "execution_count": 82,
   "metadata": {},
   "outputs": [
    {
     "name": "stdout",
     "output_type": "stream",
     "text": [
      "Not scaled manhatten: [   0 1992 1214 3916 3334  810 4520 2094 2311 3790]\n",
      "Not scaled euclidean: [   0 1992 1214 3916 3334  810 4520 2094 3790 2311]\n",
      "Scaled manhatten:     [   0 2632  133 4720 2072  124 4173 3192 1550 3541]\n",
      "Scaled euclidean:     [   0 2632  133 4720 3192 1550 2072  124 3541 3099]\n"
     ]
    }
   ],
   "source": [
    "print('Not scaled manhatten:',get_knn(df, 0, 10, 'cityblock').index.values)\n",
    "print('Not scaled euclidean:',get_knn(df, 0, 10, 'euclidean').index.values)\n",
    "print('Scaled manhatten:    ',get_knn(df_scaled, 0, 10, 'cityblock').index.values)\n",
    "print('Scaled euclidean:    ',get_knn(df_scaled, 0, 10, 'euclidean').index.values)"
   ]
  },
  {
   "cell_type": "markdown",
   "metadata": {},
   "source": [
    "We can see that scaling yes changes the group of closest points. We see that the client 1992 before scaling is really close and differs only amount of family members."
   ]
  },
  {
   "cell_type": "code",
   "execution_count": 83,
   "metadata": {},
   "outputs": [
    {
     "data": {
      "text/html": [
       "<div>\n",
       "<style scoped>\n",
       "    .dataframe tbody tr th:only-of-type {\n",
       "        vertical-align: middle;\n",
       "    }\n",
       "\n",
       "    .dataframe tbody tr th {\n",
       "        vertical-align: top;\n",
       "    }\n",
       "\n",
       "    .dataframe thead th {\n",
       "        text-align: right;\n",
       "    }\n",
       "</style>\n",
       "<table border=\"1\" class=\"dataframe\">\n",
       "  <thead>\n",
       "    <tr style=\"text-align: right;\">\n",
       "      <th></th>\n",
       "      <th>gender</th>\n",
       "      <th>age</th>\n",
       "      <th>income</th>\n",
       "      <th>family_members</th>\n",
       "      <th>insurance_benefits</th>\n",
       "      <th>distance</th>\n",
       "    </tr>\n",
       "  </thead>\n",
       "  <tbody>\n",
       "    <tr>\n",
       "      <th>0</th>\n",
       "      <td>1.0</td>\n",
       "      <td>0.630769</td>\n",
       "      <td>0.627848</td>\n",
       "      <td>0.166667</td>\n",
       "      <td>0</td>\n",
       "      <td>0.000000</td>\n",
       "    </tr>\n",
       "    <tr>\n",
       "      <th>1992</th>\n",
       "      <td>1.0</td>\n",
       "      <td>0.630769</td>\n",
       "      <td>0.627848</td>\n",
       "      <td>0.000000</td>\n",
       "      <td>0</td>\n",
       "      <td>0.166667</td>\n",
       "    </tr>\n",
       "  </tbody>\n",
       "</table>\n",
       "</div>"
      ],
      "text/plain": [
       "      gender       age    income  family_members  insurance_benefits  distance\n",
       "0        1.0  0.630769  0.627848        0.166667                   0  0.000000\n",
       "1992     1.0  0.630769  0.627848        0.000000                   0  0.166667"
      ]
     },
     "execution_count": 83,
     "metadata": {},
     "output_type": "execute_result"
    }
   ],
   "source": [
    "# comparing 0 and 2022 client before scaling\n",
    "get_knn(df_scaled, 0, 150, 'cityblock').query('index == 1992 or index == 0')"
   ]
  },
  {
   "cell_type": "code",
   "execution_count": 84,
   "metadata": {},
   "outputs": [
    {
     "data": {
      "text/html": [
       "<div>\n",
       "<style scoped>\n",
       "    .dataframe tbody tr th:only-of-type {\n",
       "        vertical-align: middle;\n",
       "    }\n",
       "\n",
       "    .dataframe tbody tr th {\n",
       "        vertical-align: top;\n",
       "    }\n",
       "\n",
       "    .dataframe thead th {\n",
       "        text-align: right;\n",
       "    }\n",
       "</style>\n",
       "<table border=\"1\" class=\"dataframe\">\n",
       "  <thead>\n",
       "    <tr style=\"text-align: right;\">\n",
       "      <th></th>\n",
       "      <th>gender</th>\n",
       "      <th>age</th>\n",
       "      <th>income</th>\n",
       "      <th>family_members</th>\n",
       "      <th>insurance_benefits</th>\n",
       "      <th>distance</th>\n",
       "    </tr>\n",
       "  </thead>\n",
       "  <tbody>\n",
       "    <tr>\n",
       "      <th>0</th>\n",
       "      <td>1</td>\n",
       "      <td>41</td>\n",
       "      <td>49600.0</td>\n",
       "      <td>1</td>\n",
       "      <td>0</td>\n",
       "      <td>0.0</td>\n",
       "    </tr>\n",
       "    <tr>\n",
       "      <th>2632</th>\n",
       "      <td>1</td>\n",
       "      <td>41</td>\n",
       "      <td>50100.0</td>\n",
       "      <td>1</td>\n",
       "      <td>0</td>\n",
       "      <td>500.0</td>\n",
       "    </tr>\n",
       "  </tbody>\n",
       "</table>\n",
       "</div>"
      ],
      "text/plain": [
       "      gender  age   income  family_members  insurance_benefits  distance\n",
       "0          1   41  49600.0               1                   0       0.0\n",
       "2632       1   41  50100.0               1                   0     500.0"
      ]
     },
     "execution_count": 84,
     "metadata": {},
     "output_type": "execute_result"
    }
   ],
   "source": [
    "# compare 0 and 2632 client after scaling\n",
    "get_knn(df, 0, 150, 'cityblock').query('index == 2632 or index == 0')"
   ]
  },
  {
   "cell_type": "markdown",
   "metadata": {},
   "source": [
    "Answers to the questions"
   ]
  },
  {
   "cell_type": "markdown",
   "metadata": {},
   "source": [
    "**Does the data being not scaled affect the kNN algorithm? If so, how does that appear?** \n",
    "\n",
    "Yes, it does. We can see on the example that before scaling we have one pair of closest neighbors, and difference between them only in amount of family members, but as we have up to 6 faily members in the dataset even 1 family member comparing to 0 can be very impactfull. \n",
    "After scaling we have difference only in income (500$) which IMHO not such impactfull as difference in family members. But during this step it is hard to say am I right or not, we should check both options."
   ]
  },
  {
   "cell_type": "markdown",
   "metadata": {},
   "source": [
    "**How similar are the results using the Manhattan distance metric (regardless of the scaling)?** \n",
    "\n",
    "Results are close"
   ]
  },
  {
   "cell_type": "markdown",
   "metadata": {},
   "source": [
    "# Task 2. Is Customer Likely to Receive Insurance Benefit?"
   ]
  },
  {
   "cell_type": "markdown",
   "metadata": {},
   "source": [
    "In terms of machine learning we can look at this like a binary classification task."
   ]
  },
  {
   "cell_type": "markdown",
   "metadata": {},
   "source": [
    "With `insurance_benefits` being more than zero as the target, evaluate whether the kNN classification approach can do better than a dummy model.\n",
    "\n",
    "Instructions:\n",
    "- Build a KNN-based classifier and measure its quality with the F1 metric for k=1..10 for both the original data and the scaled one. That'd be interesting to see how k may influece the evaluation metric, and whether scaling the data makes any difference. You can use a ready implemention of the kNN classification algorithm from scikit-learn (check [the link](https://scikit-learn.org/stable/modules/generated/sklearn.neighbors.KNeighborsClassifier.html)) or use your own.\n",
    "- Build the dummy model which is just random for this case. It should return \"1\" with some probability. Let's test the model with four probability values: 0, the probability of paying any insurance benefit, 0.5, 1.\n",
    "\n",
    "The probability of paying any insurance benefit can be defined as\n",
    "\n",
    "$$\n",
    "P\\{\\text{insurance benefit received}\\}=\\frac{\\text{number of clients received any insurance benefit}}{\\text{total number of clients}}.\n",
    "$$\n",
    "\n",
    "Split the whole data in the 70:30 proportion for the training/testing parts."
   ]
  },
  {
   "cell_type": "code",
   "execution_count": 85,
   "metadata": {},
   "outputs": [],
   "source": [
    "# calculate the target\n",
    "\n",
    "df['insurance_benefits_received'] = df['insurance_benefits_received'] = df['insurance_benefits'].apply(lambda x: 0 if x == 0 else 1)\n",
    "df_scaled['insurance_benefits_received'] = df_scaled['insurance_benefits'].apply(lambda x: 0 if x == 0 else 1)"
   ]
  },
  {
   "cell_type": "code",
   "execution_count": 86,
   "metadata": {},
   "outputs": [
    {
     "data": {
      "text/html": [
       "<div>\n",
       "<style scoped>\n",
       "    .dataframe tbody tr th:only-of-type {\n",
       "        vertical-align: middle;\n",
       "    }\n",
       "\n",
       "    .dataframe tbody tr th {\n",
       "        vertical-align: top;\n",
       "    }\n",
       "\n",
       "    .dataframe thead th {\n",
       "        text-align: right;\n",
       "    }\n",
       "</style>\n",
       "<table border=\"1\" class=\"dataframe\">\n",
       "  <thead>\n",
       "    <tr style=\"text-align: right;\">\n",
       "      <th></th>\n",
       "      <th>gender</th>\n",
       "      <th>age</th>\n",
       "      <th>income</th>\n",
       "      <th>family_members</th>\n",
       "      <th>insurance_benefits</th>\n",
       "      <th>insurance_benefits_received</th>\n",
       "    </tr>\n",
       "  </thead>\n",
       "  <tbody>\n",
       "    <tr>\n",
       "      <th>0</th>\n",
       "      <td>1</td>\n",
       "      <td>41</td>\n",
       "      <td>49600.0</td>\n",
       "      <td>1</td>\n",
       "      <td>0</td>\n",
       "      <td>0</td>\n",
       "    </tr>\n",
       "    <tr>\n",
       "      <th>2</th>\n",
       "      <td>0</td>\n",
       "      <td>29</td>\n",
       "      <td>21000.0</td>\n",
       "      <td>0</td>\n",
       "      <td>0</td>\n",
       "      <td>0</td>\n",
       "    </tr>\n",
       "    <tr>\n",
       "      <th>3</th>\n",
       "      <td>0</td>\n",
       "      <td>21</td>\n",
       "      <td>41700.0</td>\n",
       "      <td>2</td>\n",
       "      <td>0</td>\n",
       "      <td>0</td>\n",
       "    </tr>\n",
       "    <tr>\n",
       "      <th>4</th>\n",
       "      <td>1</td>\n",
       "      <td>28</td>\n",
       "      <td>26100.0</td>\n",
       "      <td>0</td>\n",
       "      <td>0</td>\n",
       "      <td>0</td>\n",
       "    </tr>\n",
       "    <tr>\n",
       "      <th>6</th>\n",
       "      <td>1</td>\n",
       "      <td>39</td>\n",
       "      <td>39700.0</td>\n",
       "      <td>2</td>\n",
       "      <td>0</td>\n",
       "      <td>0</td>\n",
       "    </tr>\n",
       "  </tbody>\n",
       "</table>\n",
       "</div>"
      ],
      "text/plain": [
       "   gender  age   income  family_members  insurance_benefits  \\\n",
       "0       1   41  49600.0               1                   0   \n",
       "2       0   29  21000.0               0                   0   \n",
       "3       0   21  41700.0               2                   0   \n",
       "4       1   28  26100.0               0                   0   \n",
       "6       1   39  39700.0               2                   0   \n",
       "\n",
       "   insurance_benefits_received  \n",
       "0                            0  \n",
       "2                            0  \n",
       "3                            0  \n",
       "4                            0  \n",
       "6                            0  "
      ]
     },
     "execution_count": 86,
     "metadata": {},
     "output_type": "execute_result"
    }
   ],
   "source": [
    "df[ df['insurance_benefits'] == 0 ].head()"
   ]
  },
  {
   "cell_type": "code",
   "execution_count": 87,
   "metadata": {},
   "outputs": [
    {
     "data": {
      "text/plain": [
       "0    4284\n",
       "1     563\n",
       "Name: insurance_benefits_received, dtype: int64"
      ]
     },
     "execution_count": 87,
     "metadata": {},
     "output_type": "execute_result"
    }
   ],
   "source": [
    "# check for the class imbalance with value_counts()\n",
    "\n",
    "df['insurance_benefits_received'].value_counts()"
   ]
  },
  {
   "cell_type": "markdown",
   "metadata": {},
   "source": [
    "We can see that target is imbalanced"
   ]
  },
  {
   "cell_type": "code",
   "execution_count": 88,
   "metadata": {},
   "outputs": [],
   "source": [
    "def eval_classifier(y_true, y_pred):\n",
    "    \n",
    "    f1_score = sklearn.metrics.f1_score(y_true, y_pred)\n",
    "    print(f'F1: {f1_score:.2f}')\n",
    "    \n",
    "# if you have an issue with the following line, restart the kernel and run the notebook again\n",
    "    cm = sklearn.metrics.confusion_matrix(y_true, y_pred, normalize='all')\n",
    "    print('Confusion Matrix')\n",
    "    print(cm)"
   ]
  },
  {
   "cell_type": "code",
   "execution_count": 89,
   "metadata": {},
   "outputs": [],
   "source": [
    "# generating output of a random model\n",
    "\n",
    "def rnd_model_predict(P, size, seed=42):\n",
    "\n",
    "    rng = np.random.default_rng(seed=seed)\n",
    "    return rng.binomial(n=1, p=P, size=size)"
   ]
  },
  {
   "cell_type": "code",
   "execution_count": 90,
   "metadata": {},
   "outputs": [],
   "source": [
    "features = df.drop(['insurance_benefits', 'insurance_benefits_received'], axis=1)\n",
    "target = df['insurance_benefits_received']\n",
    "\n",
    "features_train, features_test, target_train, target_test = train_test_split(\n",
    "                            features, target, test_size=0.3, random_state=10)\n",
    "\n",
    "# scaled\n",
    "features_scaled = df_scaled.drop(['insurance_benefits', 'insurance_benefits_received'], axis=1)\n",
    "target_scaled = df_scaled['insurance_benefits_received']\n",
    "\n",
    "features_scaled_train, features_scaled_test, target_scaled_train, target_scaled_test = train_test_split(\n",
    "                            features_scaled, target_scaled, test_size=0.3, random_state=10)"
   ]
  },
  {
   "cell_type": "code",
   "execution_count": 91,
   "metadata": {},
   "outputs": [
    {
     "name": "stdout",
     "output_type": "stream",
     "text": [
      "The probability: 0.00\n",
      "F1: 0.00\n",
      "Confusion Matrix\n",
      "[[0.88384568 0.        ]\n",
      " [0.11615432 0.        ]]\n",
      "\n",
      "The probability: 0.12\n",
      "F1: 0.13\n",
      "Confusion Matrix\n",
      "[[0.78502166 0.09882401]\n",
      " [0.1017124  0.01444192]]\n",
      "\n",
      "The probability: 0.50\n",
      "F1: 0.19\n",
      "Confusion Matrix\n",
      "[[0.44873117 0.4351145 ]\n",
      " [0.05921188 0.05694244]]\n",
      "\n",
      "The probability: 1.00\n",
      "F1: 0.21\n",
      "Confusion Matrix\n",
      "[[0.         0.88384568]\n",
      " [0.         0.11615432]]\n",
      "\n"
     ]
    }
   ],
   "source": [
    "for P in [0, df['insurance_benefits_received'].sum() / len(df), 0.5, 1]:\n",
    "\n",
    "    print(f'The probability: {P:.2f}')\n",
    "    y_pred_rnd = rnd_model_predict(P, len(df), seed=42) \n",
    "        \n",
    "    eval_classifier(df['insurance_benefits_received'], y_pred_rnd)\n",
    "    \n",
    "    print()"
   ]
  },
  {
   "cell_type": "markdown",
   "metadata": {},
   "source": [
    "TN is C[0,0], FP is C[0,1]\n",
    "FN is C[1,0], TP is C[1,1]\n",
    "\n",
    "When P = 0; TN and FN > 0, TP and FP == 0, so F1 undefined (as it should be)\n",
    "When P = 1; TP and FP > 0, TN and FN == 0 (as it should be)"
   ]
  },
  {
   "cell_type": "code",
   "execution_count": 92,
   "metadata": {},
   "outputs": [
    {
     "name": "stdout",
     "output_type": "stream",
     "text": [
      "\n",
      "Number of knn: 1\n",
      "Train:\n",
      "F1: 1.00\n",
      "Confusion Matrix\n",
      "[[0.88767689 0.        ]\n",
      " [0.         0.11232311]]\n",
      "\n",
      "Test:\n",
      "F1: 0.56\n",
      "Confusion Matrix\n",
      "[[0.85498282 0.01993127]\n",
      " [0.06872852 0.05635739]]\n",
      "\n",
      "Number of knn: 2\n",
      "Train:\n",
      "F1: 0.70\n",
      "Confusion Matrix\n",
      "[[0.88767689 0.        ]\n",
      " [0.05188679 0.06043632]]\n",
      "\n",
      "Test:\n",
      "F1: 0.30\n",
      "Confusion Matrix\n",
      "[[0.87079038 0.00412371]\n",
      " [0.1024055  0.02268041]]\n",
      "\n",
      "Number of knn: 3\n",
      "Train:\n",
      "F1: 0.74\n",
      "Confusion Matrix\n",
      "[[0.88472877 0.00294811]\n",
      " [0.04510613 0.06721698]]\n",
      "\n",
      "Test:\n",
      "F1: 0.31\n",
      "Confusion Matrix\n",
      "[[0.8652921  0.00962199]\n",
      " [0.10034364 0.02474227]]\n",
      "\n",
      "Number of knn: 4\n",
      "Train:\n",
      "F1: 0.47\n",
      "Confusion Matrix\n",
      "[[0.88620283 0.00147406]\n",
      " [0.07724057 0.03508255]]\n",
      "\n",
      "Test:\n",
      "F1: 0.14\n",
      "Confusion Matrix\n",
      "[[0.87285223 0.00206186]\n",
      " [0.11546392 0.00962199]]\n",
      "\n",
      "Number of knn: 5\n",
      "Train:\n",
      "F1: 0.48\n",
      "Confusion Matrix\n",
      "[[0.8853184  0.00235849]\n",
      " [0.07635613 0.03596698]]\n",
      "\n",
      "Test:\n",
      "F1: 0.16\n",
      "Confusion Matrix\n",
      "[[0.87216495 0.00274914]\n",
      " [0.11408935 0.01099656]]\n",
      "\n",
      "Number of knn: 6\n",
      "Train:\n",
      "F1: 0.26\n",
      "Confusion Matrix\n",
      "[[8.87382075e-01 2.94811321e-04]\n",
      " [9.58136792e-02 1.65094340e-02]]\n",
      "\n",
      "Test:\n",
      "F1: 0.09\n",
      "Confusion Matrix\n",
      "[[0.87353952 0.00137457]\n",
      " [0.11890034 0.00618557]]\n",
      "\n",
      "Number of knn: 7\n",
      "Train:\n",
      "F1: 0.27\n",
      "Confusion Matrix\n",
      "[[0.88649764 0.00117925]\n",
      " [0.09492925 0.01739387]]\n",
      "\n",
      "Test:\n",
      "F1: 0.09\n",
      "Confusion Matrix\n",
      "[[0.87285223 0.00206186]\n",
      " [0.11890034 0.00618557]]\n",
      "\n",
      "Number of knn: 8\n",
      "Train:\n",
      "F1: 0.17\n",
      "Confusion Matrix\n",
      "[[8.86792453e-01 8.84433962e-04]\n",
      " [1.02004717e-01 1.03183962e-02]]\n",
      "\n",
      "Test:\n",
      "F1: 0.05\n",
      "Confusion Matrix\n",
      "[[8.74226804e-01 6.87285223e-04]\n",
      " [1.21649485e-01 3.43642612e-03]]\n",
      "\n",
      "Number of knn: 9\n",
      "Train:\n",
      "F1: 0.17\n",
      "Confusion Matrix\n",
      "[[8.86792453e-01 8.84433962e-04]\n",
      " [1.01709906e-01 1.06132075e-02]]\n",
      "\n",
      "Test:\n",
      "F1: 0.07\n",
      "Confusion Matrix\n",
      "[[0.87353952 0.00137457]\n",
      " [0.12027491 0.004811  ]]\n",
      "\n",
      "Number of knn: 10\n",
      "Train:\n",
      "F1: 0.03\n",
      "Confusion Matrix\n",
      "[[0.88767689 0.        ]\n",
      " [0.11055425 0.00176887]]\n",
      "\n",
      "Test:\n",
      "F1: 0.05\n",
      "Confusion Matrix\n",
      "[[0.87491409 0.        ]\n",
      " [0.12164948 0.00343643]]\n"
     ]
    }
   ],
   "source": [
    "f1_score_test = []\n",
    "for k_neighbors in range(1,11):\n",
    "    neigh = KNeighborsClassifier(n_neighbors=k_neighbors, metric='cityblock')\n",
    "    neigh.fit(features_train, target_train)\n",
    "    y_pred_train = neigh.predict(features_train)\n",
    "    y_pred_test = neigh.predict(features_test)\n",
    "\n",
    "    print('\\nNumber of knn:', k_neighbors)\n",
    "    print('Train:')\n",
    "    eval_classifier(target_train, y_pred_train)\n",
    "    print('\\nTest:')\n",
    "    eval_classifier(target_test, y_pred_test)\n",
    "    f1_score_test.append(sklearn.metrics.f1_score(target_test, y_pred_test))"
   ]
  },
  {
   "cell_type": "code",
   "execution_count": 93,
   "metadata": {},
   "outputs": [
    {
     "data": {
      "image/png": "[encoded data removed]",
      "text/plain": [
       "<Figure size 432x288 with 1 Axes>"
      ]
     },
     "metadata": {
      "needs_background": "light"
     },
     "output_type": "display_data"
    }
   ],
   "source": [
    "plt.figure\n",
    "plt.plot([x + 2 for x in range(9)], f1_score_test[1:])\n",
    "plt.xlabel('Number of neighbors')\n",
    "plt.ylabel('f1_score')\n",
    "plt.title('Prediction of test, not scaled')\n",
    "plt.grid(True)"
   ]
  },
  {
   "cell_type": "markdown",
   "metadata": {},
   "source": [
    "With increasing the number of neighbors the quality of prediction decreases. Optimal number of neighbors is 3 for unsxaled dataset. Let's see the results for scaled dataset."
   ]
  },
  {
   "cell_type": "code",
   "execution_count": 94,
   "metadata": {},
   "outputs": [
    {
     "name": "stdout",
     "output_type": "stream",
     "text": [
      "\n",
      "Number of knn: 1\n",
      "Train:\n",
      "F1: 1.00\n",
      "Confusion Matrix\n",
      "[[0.88767689 0.        ]\n",
      " [0.         0.11232311]]\n",
      "\n",
      "Test:\n",
      "F1: 0.96\n",
      "Confusion Matrix\n",
      "[[0.87079038 0.00412371]\n",
      " [0.00549828 0.11958763]]\n",
      "\n",
      "Number of knn: 2\n",
      "Train:\n",
      "F1: 0.96\n",
      "Confusion Matrix\n",
      "[[0.88767689 0.        ]\n",
      " [0.00825472 0.1040684 ]]\n",
      "\n",
      "Test:\n",
      "F1: 0.92\n",
      "Confusion Matrix\n",
      "[[0.87353952 0.00137457]\n",
      " [0.01718213 0.10790378]]\n",
      "\n",
      "Number of knn: 3\n",
      "Train:\n",
      "F1: 0.97\n",
      "Confusion Matrix\n",
      "[[8.86792453e-01 8.84433962e-04]\n",
      " [5.01179245e-03 1.07311321e-01]]\n",
      "\n",
      "Test:\n",
      "F1: 0.95\n",
      "Confusion Matrix\n",
      "[[0.87216495 0.00274914]\n",
      " [0.00962199 0.11546392]]\n",
      "\n",
      "Number of knn: 4\n",
      "Train:\n",
      "F1: 0.95\n",
      "Confusion Matrix\n",
      "[[8.87382075e-01 2.94811321e-04]\n",
      " [1.06132075e-02 1.01709906e-01]]\n",
      "\n",
      "Test:\n",
      "F1: 0.92\n",
      "Confusion Matrix\n",
      "[[0.87491409 0.        ]\n",
      " [0.01924399 0.10584192]]\n",
      "\n",
      "Number of knn: 5\n",
      "Train:\n",
      "F1: 0.96\n",
      "Confusion Matrix\n",
      "[[0.88649764 0.00117925]\n",
      " [0.00707547 0.10524764]]\n",
      "\n",
      "Test:\n",
      "F1: 0.95\n",
      "Confusion Matrix\n",
      "[[0.87491409 0.        ]\n",
      " [0.01099656 0.11408935]]\n",
      "\n",
      "Number of knn: 6\n",
      "Train:\n",
      "F1: 0.94\n",
      "Confusion Matrix\n",
      "[[8.87382075e-01 2.94811321e-04]\n",
      " [1.32665094e-02 9.90566038e-02]]\n",
      "\n",
      "Test:\n",
      "F1: 0.93\n",
      "Confusion Matrix\n",
      "[[0.87491409 0.        ]\n",
      " [0.01718213 0.10790378]]\n",
      "\n",
      "Number of knn: 7\n",
      "Train:\n",
      "F1: 0.96\n",
      "Confusion Matrix\n",
      "[[8.87087264e-01 5.89622642e-04]\n",
      " [7.95990566e-03 1.04363208e-01]]\n",
      "\n",
      "Test:\n",
      "F1: 0.95\n",
      "Confusion Matrix\n",
      "[[0.87491409 0.        ]\n",
      " [0.01237113 0.11271478]]\n",
      "\n",
      "Number of knn: 8\n",
      "Train:\n",
      "F1: 0.93\n",
      "Confusion Matrix\n",
      "[[0.88767689 0.        ]\n",
      " [0.01503538 0.09728774]]\n",
      "\n",
      "Test:\n",
      "F1: 0.92\n",
      "Confusion Matrix\n",
      "[[0.87491409 0.        ]\n",
      " [0.01786942 0.10721649]]\n",
      "\n",
      "Number of knn: 9\n",
      "Train:\n",
      "F1: 0.94\n",
      "Confusion Matrix\n",
      "[[8.87087264e-01 5.89622642e-04]\n",
      " [1.14976415e-02 1.00825472e-01]]\n",
      "\n",
      "Test:\n",
      "F1: 0.94\n",
      "Confusion Matrix\n",
      "[[0.87491409 0.        ]\n",
      " [0.01512027 0.10996564]]\n",
      "\n",
      "Number of knn: 10\n",
      "Train:\n",
      "F1: 0.91\n",
      "Confusion Matrix\n",
      "[[8.87382075e-01 2.94811321e-04]\n",
      " [1.82783019e-02 9.40448113e-02]]\n",
      "\n",
      "Test:\n",
      "F1: 0.90\n",
      "Confusion Matrix\n",
      "[[0.87491409 0.        ]\n",
      " [0.02268041 0.1024055 ]]\n"
     ]
    }
   ],
   "source": [
    "\n",
    "f1_score_test = []\n",
    "for k_neighbors in range(1,11):\n",
    "    neigh_scaled = KNeighborsClassifier(n_neighbors=k_neighbors, metric='cityblock')\n",
    "    neigh_scaled.fit(features_scaled_train, target_scaled_train)\n",
    "    y_pred_scaled_train = neigh_scaled.predict(features_scaled_train)\n",
    "    y_pred_scaled_test = neigh_scaled.predict(features_scaled_test)\n",
    "\n",
    "    print('\\nNumber of knn:', k_neighbors)\n",
    "    print('Train:')\n",
    "    eval_classifier(target_scaled_train, y_pred_scaled_train)\n",
    "    print('\\nTest:')\n",
    "    eval_classifier(target_scaled_test, y_pred_scaled_test)\n",
    "    f1_score_test.append(sklearn.metrics.f1_score(target_scaled_test, y_pred_scaled_test))"
   ]
  },
  {
   "cell_type": "code",
   "execution_count": 95,
   "metadata": {},
   "outputs": [
    {
     "data": {
      "image/png": "[encoded data removed]",
      "text/plain": [
       "<Figure size 432x288 with 1 Axes>"
      ]
     },
     "metadata": {
      "needs_background": "light"
     },
     "output_type": "display_data"
    }
   ],
   "source": [
    "plt.figure\n",
    "plt.plot([x + 2 for x in range(9)], f1_score_test[1:])\n",
    "plt.xlabel('Number of neighbors')\n",
    "plt.ylabel('f1_score')\n",
    "plt.title('Prediction of test, scaled')\n",
    "plt.grid(True)"
   ]
  },
  {
   "cell_type": "markdown",
   "metadata": {},
   "source": [
    "For the scaled dataset results are much more better, we can see that quality of prediction doesn't depend on number of neighbors."
   ]
  },
  {
   "cell_type": "markdown",
   "metadata": {},
   "source": [
    "# Task 3. Regression (with Linear Regression)"
   ]
  },
  {
   "cell_type": "markdown",
   "metadata": {},
   "source": [
    "With `insurance_benefits` as the target, evaluate what RMSE would be for a Linear Regression model."
   ]
  },
  {
   "cell_type": "markdown",
   "metadata": {},
   "source": [
    "Build your own implementation of LR. For that, recall how the linear regression task's solution is formulated in terms of LA. Check RMSE for both the original data and the scaled one. Can you see any difference in RMSE between these two cases?\n",
    "\n",
    "Let's denote\n",
    "- $X$ — feature matrix, each row is a case, each column is a feature, the first column consists of unities\n",
    "- $y$ — target (a vector)\n",
    "- $\\hat{y}$ — estimated tagret (a vector)\n",
    "- $w$ — weight vector\n",
    "\n",
    "The task of linear regression in the language of matrices can be formulated as\n",
    "\n",
    "$$\n",
    "y = Xw\n",
    "$$\n",
    "\n",
    "The training objective then is to find such $w$ that it would minimize the L2-distance (MSE) between $Xw$ and $y$:\n",
    "\n",
    "$$\n",
    "\\min_w d_2(Xw, y) \\quad \\text{or} \\quad \\min_w \\text{MSE}(Xw, y)\n",
    "$$\n",
    "\n",
    "It appears that there is analytical solution for the above:\n",
    "\n",
    "$$\n",
    "w = (X^T X)^{-1} X^T y\n",
    "$$\n",
    "\n",
    "The formula above can be used to find the weights $w$ and the latter can be used to calculate predicted values\n",
    "\n",
    "$$\n",
    "\\hat{y} = X_{val}w\n",
    "$$"
   ]
  },
  {
   "cell_type": "markdown",
   "metadata": {},
   "source": [
    "Split the whole data in the 70:30 proportion for the training/validation parts. Use the RMSE metric for the model evaluation."
   ]
  },
  {
   "cell_type": "code",
   "execution_count": 96,
   "metadata": {},
   "outputs": [],
   "source": [
    "class MyLinearRegression:\n",
    "    \n",
    "    def __init__(self):\n",
    "        \n",
    "        self.weights = None\n",
    "    \n",
    "    def fit(self, X, y):\n",
    "        \n",
    "        # adding the unities\n",
    "        X2 = np.append(np.ones([len(X), 1]), X, axis=1)\n",
    "        self.weights = np.linalg.inv(np.dot(X2.T, X2)).dot(X2.T).dot(y)\n",
    "\n",
    "    def predict(self, X):\n",
    "        \n",
    "        # adding the unities\n",
    "        X2 = np.append(np.ones([len(X), 1]), X, axis=1)\n",
    "        y_pred = X2.dot(self.weights)\n",
    "        \n",
    "        return y_pred"
   ]
  },
  {
   "cell_type": "code",
   "execution_count": 97,
   "metadata": {},
   "outputs": [],
   "source": [
    "def eval_regressor(y_true, y_pred):\n",
    "    \n",
    "    rmse = math.sqrt(sklearn.metrics.mean_squared_error(y_true, y_pred))\n",
    "    print(f'RMSE: {rmse:.2f}')\n",
    "    \n",
    "    r2_score = math.sqrt(sklearn.metrics.r2_score(y_true, y_pred))\n",
    "    print(f'R2: {r2_score:.2f}')    "
   ]
  },
  {
   "cell_type": "code",
   "execution_count": 98,
   "metadata": {},
   "outputs": [
    {
     "name": "stdout",
     "output_type": "stream",
     "text": [
      "[-9.77366729e-01  3.58042291e-02  1.95594888e-02  5.85336165e-07\n",
      " -1.21618420e-02]\n",
      "RMSE: 0.36\n",
      "R2: 0.66\n"
     ]
    }
   ],
   "source": [
    "X = df[['age', 'gender', 'income', 'family_members']].to_numpy()\n",
    "y = df['insurance_benefits'].to_numpy()\n",
    "\n",
    "X_train, X_test, y_train, y_test = train_test_split(X, y, test_size=0.3, random_state=12345)\n",
    "\n",
    "lr = MyLinearRegression()\n",
    "\n",
    "lr.fit(X_train, y_train)\n",
    "print(lr.weights)\n",
    "\n",
    "y_test_pred = lr.predict(X_test)\n",
    "eval_regressor(y_test, y_test_pred)"
   ]
  },
  {
   "cell_type": "code",
   "execution_count": 99,
   "metadata": {},
   "outputs": [
    {
     "name": "stdout",
     "output_type": "stream",
     "text": [
      "[-0.97736673  2.32727489  0.01955949  0.04624156 -0.07297105]\n",
      "RMSE: 0.36\n",
      "R2: 0.66\n"
     ]
    }
   ],
   "source": [
    "X_scaled = df_scaled[['age', 'gender', 'income', 'family_members']].to_numpy()\n",
    "y_scaled = df_scaled['insurance_benefits'].to_numpy()\n",
    "\n",
    "X_scaled_train, X_scaled_test, y_scaled_train, y_scaled_test = train_test_split(\n",
    "            X_scaled, y_scaled, test_size=0.3, random_state=12345)\n",
    "\n",
    "lr = MyLinearRegression()\n",
    "\n",
    "lr.fit(X_scaled_train, y_scaled_train)\n",
    "print(lr.weights)\n",
    "\n",
    "y_scaled_test_pred = lr.predict(X_scaled_test)\n",
    "eval_regressor(y_scaled_test, y_scaled_test_pred)"
   ]
  },
  {
   "cell_type": "markdown",
   "metadata": {},
   "source": [
    "# Task 4. Obfuscating Data"
   ]
  },
  {
   "cell_type": "markdown",
   "metadata": {},
   "source": [
    "It best to obfuscate data by multiplying the numerical features (remember, they can be seen as the matrix $X$) by an invertible matrix $P$. \n",
    "\n",
    "$$\n",
    "X' = X \\times P\n",
    "$$\n",
    "\n",
    "Try to do that and check how the features' values will look like after the transformation. By the way, the intertible property is important here so make sure that $P$ is indeed invertible.\n",
    "\n",
    "You may want to review the 'Matrices and Matrix Operations -> Matrix Multiplication' lesson to recall the rule of matrix multiplication and its implementation with NumPy."
   ]
  },
  {
   "cell_type": "code",
   "execution_count": 100,
   "metadata": {},
   "outputs": [],
   "source": [
    "personal_info_column_list = ['gender', 'age', 'income', 'family_members']\n",
    "df_pn = df[personal_info_column_list]"
   ]
  },
  {
   "cell_type": "code",
   "execution_count": 101,
   "metadata": {},
   "outputs": [],
   "source": [
    "X = df_pn.to_numpy()"
   ]
  },
  {
   "cell_type": "markdown",
   "metadata": {},
   "source": [
    "Generating a random matrix $P$."
   ]
  },
  {
   "cell_type": "code",
   "execution_count": 102,
   "metadata": {},
   "outputs": [],
   "source": [
    "rng = np.random.default_rng(seed=42)\n",
    "P = rng.random(size=(X.shape[1], X.shape[1]))"
   ]
  },
  {
   "cell_type": "markdown",
   "metadata": {},
   "source": [
    "Checking the matrix $P$ is invertible"
   ]
  },
  {
   "cell_type": "code",
   "execution_count": 103,
   "metadata": {},
   "outputs": [
    {
     "name": "stdout",
     "output_type": "stream",
     "text": [
      "[[ 0.41467992 -1.43783972  0.62798546  1.14001268]\n",
      " [-1.06101789  0.44219337  0.1329549   1.18425933]\n",
      " [ 1.42362442  1.60461607 -2.0553823  -1.53699695]\n",
      " [-0.11128575 -0.65813802  1.74995517 -0.11816316]]\n"
     ]
    }
   ],
   "source": [
    "try:\n",
    "    print(np.linalg.inv(P))\n",
    "except:\n",
    "    print('The matrix is not invertable. Create another one.')"
   ]
  },
  {
   "cell_type": "markdown",
   "metadata": {},
   "source": [
    "Can you guess the customers' ages or income after the transformation?"
   ]
  },
  {
   "cell_type": "code",
   "execution_count": 104,
   "metadata": {},
   "outputs": [
    {
     "data": {
      "text/plain": [
       "array([[ 6359.71527314, 22380.40467609, 18424.09074184, 46000.69669016],\n",
       "       [ 4873.29406479, 17160.36702982, 14125.78076133, 35253.45577301],\n",
       "       [ 2693.11742928,  9486.397744  ,  7808.83156024, 19484.86063067],\n",
       "       ...,\n",
       "       [ 4346.2234249 , 15289.24126492, 12586.16264392, 31433.50888552],\n",
       "       [ 4194.09324155, 14751.9910242 , 12144.02930637, 30323.88763426],\n",
       "       [ 5205.46827354, 18314.24814446, 15077.01370762, 37649.59295455]])"
      ]
     },
     "execution_count": 104,
     "metadata": {},
     "output_type": "execute_result"
    }
   ],
   "source": [
    "X_encrypted = X.dot(P)\n",
    "X_encrypted"
   ]
  },
  {
   "cell_type": "markdown",
   "metadata": {},
   "source": [
    "Can you recover the original data from $X'$ if you know $P$? Try to check that with calculations by moving $P$ from the right side of the formula above to the left one. The rules of matrix multiplcation are really helpful here."
   ]
  },
  {
   "cell_type": "code",
   "execution_count": 105,
   "metadata": {},
   "outputs": [
    {
     "name": "stdout",
     "output_type": "stream",
     "text": [
      "Difference:\n"
     ]
    },
    {
     "data": {
      "text/plain": [
       "array([[-4.24105195e-14, -2.13162821e-14,  0.00000000e+00,\n",
       "         1.66155978e-12],\n",
       "       [ 1.67952800e-12,  4.99511543e-12, -1.45519152e-11,\n",
       "         1.26254562e-12],\n",
       "       [-6.23021448e-13,  2.48689958e-13, -3.63797881e-12,\n",
       "        -2.03032656e-13],\n",
       "       ...,\n",
       "       [ 1.57996161e-12,  1.63780101e-12,  0.00000000e+00,\n",
       "        -2.14739337e-12],\n",
       "       [-4.91384711e-13,  3.21875859e-12, -3.63797881e-12,\n",
       "         7.14983628e-14],\n",
       "       [ 2.44626541e-12,  2.84217094e-12, -7.27595761e-12,\n",
       "         1.46838097e-12]])"
      ]
     },
     "execution_count": 105,
     "metadata": {},
     "output_type": "execute_result"
    }
   ],
   "source": [
    "X_restored = X_encrypted.dot(np.linalg.inv(P))\n",
    "print('Difference:')\n",
    "X_restored - X"
   ]
  },
  {
   "cell_type": "markdown",
   "metadata": {},
   "source": [
    "Print all three cases for a few customers\n",
    "- The original data\n",
    "- The transformed one\n",
    "- The reversed (recovered) one"
   ]
  },
  {
   "cell_type": "code",
   "execution_count": 106,
   "metadata": {},
   "outputs": [
    {
     "name": "stdout",
     "output_type": "stream",
     "text": [
      "[[1.00e+00 4.10e+01 4.96e+04 1.00e+00]\n",
      " [0.00e+00 4.60e+01 3.80e+04 1.00e+00]\n",
      " [0.00e+00 2.90e+01 2.10e+04 0.00e+00]\n",
      " ...\n",
      " [0.00e+00 2.00e+01 3.39e+04 2.00e+00]\n",
      " [1.00e+00 2.20e+01 3.27e+04 3.00e+00]\n",
      " [1.00e+00 2.80e+01 4.06e+04 1.00e+00]]\n",
      "[[ 6359.71527314 22380.40467609 18424.09074184 46000.69669016]\n",
      " [ 4873.29406479 17160.36702982 14125.78076133 35253.45577301]\n",
      " [ 2693.11742928  9486.397744    7808.83156024 19484.86063067]\n",
      " ...\n",
      " [ 4346.2234249  15289.24126492 12586.16264392 31433.50888552]\n",
      " [ 4194.09324155 14751.9910242  12144.02930637 30323.88763426]\n",
      " [ 5205.46827354 18314.24814446 15077.01370762 37649.59295455]]\n",
      "[[ 1.00000000e+00  4.10000000e+01  4.96000000e+04  1.00000000e+00]\n",
      " [ 1.67952800e-12  4.60000000e+01  3.80000000e+04  1.00000000e+00]\n",
      " [-6.23021448e-13  2.90000000e+01  2.10000000e+04 -2.03032656e-13]\n",
      " ...\n",
      " [ 1.57996161e-12  2.00000000e+01  3.39000000e+04  2.00000000e+00]\n",
      " [ 1.00000000e+00  2.20000000e+01  3.27000000e+04  3.00000000e+00]\n",
      " [ 1.00000000e+00  2.80000000e+01  4.06000000e+04  1.00000000e+00]]\n"
     ]
    }
   ],
   "source": [
    "print(X)\n",
    "print(X_encrypted)\n",
    "print(X_restored)"
   ]
  },
  {
   "cell_type": "markdown",
   "metadata": {},
   "source": [
    "You can probably see that some values are not exactly the same as they are in the original data. What might be the reason for that?"
   ]
  },
  {
   "cell_type": "markdown",
   "metadata": {},
   "source": [
    "On my opinion the reason hides in in float numbers. We got an error while computing."
   ]
  },
  {
   "cell_type": "markdown",
   "metadata": {},
   "source": [
    "## Proof That Data Obfuscation Can Work with LR"
   ]
  },
  {
   "cell_type": "markdown",
   "metadata": {},
   "source": [
    "The regression task has been solved with linear regression in this project. Your next task is to prove _analytically_ that the given obfuscation method won't affect linear regression in terms of predicted values i.e. their values will remain the same. Can you believe that? Well, you don't have to, you should prove it!"
   ]
  },
  {
   "cell_type": "markdown",
   "metadata": {},
   "source": [
    "So, the data is obfuscated and there is $X \\times P$ instead of just $X$ now. Consequently, there are other weights $w_P$ as\n",
    "$$\n",
    "w = (X^T X)^{-1} X^T y \\quad \\Rightarrow \\quad w_P = [(XP)^T XP]^{-1} (XP)^T y\n",
    "$$\n",
    "\n",
    "How would $w$ and $w_P$ be linked if you simplify the formula for $w_P$ above? \n",
    "\n",
    "What would be predicted values with $w_P$? \n",
    "\n",
    "What does that mean for the quality of linear regression if you measure it with RMSE?\n",
    "\n",
    "Check Appendix B Properties of Matrices in the end of the notebook. There are useful formulas in there!\n",
    "\n",
    "No code is necessary in this section, only analytical explanation!"
   ]
  },
  {
   "cell_type": "markdown",
   "metadata": {},
   "source": [
    "**Answer**"
   ]
  },
  {
   "cell_type": "markdown",
   "metadata": {},
   "source": [
    "$w$ and $w_P$ connected by $P^{-1}$. The same as with $w$, $\\hat{y}_{p}$ = $\\hat{y}$. Because $\\hat{y}_{p}$ = $\\hat{y}$ the RMSE same the quality won't change."
   ]
  },
  {
   "cell_type": "markdown",
   "metadata": {},
   "source": [
    "**Analytical proof**"
   ]
  },
  {
   "cell_type": "markdown",
   "metadata": {},
   "source": [
    "$w_P = [(XP)^TXP]^-1(XP)^T_y \\Longrightarrow w_p = [P^TX^TXP]^-1P^TX^T_y \\Longrightarrow \n",
    "w_p = P^-1X^-1(X^T)^-1(P^T)^-1P^TX^T_y \\Longrightarrow w_p = P^-1X^-1(X^T)^-1X^T_y \\Longrightarrow\n",
    "w_p = P^-1(X^TX)^-1X^T_y \\Longrightarrow w_p = P^-1w$\n",
    "And\n",
    "\n",
    "$w$ = $P_wp$\n",
    "$\\hat{y} = X_{val}w$\n",
    "$\\hat{y} = X_{val}Pw_p = X{val}PP^-1w = X_{val}w = \\hat{y}$\n",
    "So, $\\hat{y}_p = \\hat{y}$\n"
   ]
  },
  {
   "cell_type": "markdown",
   "metadata": {},
   "source": [
    "## Test Linear Regression With Data Obfuscation"
   ]
  },
  {
   "cell_type": "markdown",
   "metadata": {},
   "source": [
    "Now, let's prove Linear Regression can work computationally with the chosen obfuscation transformation.\n",
    "\n",
    "Build a procedure or a class that runs Linear Regression optionally with the obfuscation. You can use either a ready implementation of Linear Regression from sciki-learn or your own.\n",
    "\n",
    "Run Linear Regression for the original data and the obfuscated one, compare the predicted values and the RMSE, $R^2$ metric values. Is there any difference?"
   ]
  },
  {
   "cell_type": "markdown",
   "metadata": {},
   "source": [
    "**Procedure**\n",
    "\n",
    "- Create a square matrix $P$ of random numbers.\n",
    "- Check that it is invertible. If not, repeat the first point until we get an invertible matrix.\n",
    "- <! your comment here !>\n",
    "- Use $XP$ as the new feature matrix"
   ]
  },
  {
   "cell_type": "code",
   "execution_count": 107,
   "metadata": {},
   "outputs": [],
   "source": [
    "#random matrix P\n",
    "rng = np.random.default_rng(seed=42)\n",
    "P = rng.random(size=(X.shape[1], X.shape[1]))"
   ]
  },
  {
   "cell_type": "code",
   "execution_count": 108,
   "metadata": {},
   "outputs": [
    {
     "name": "stdout",
     "output_type": "stream",
     "text": [
      "[[ 0.41467992 -1.43783972  0.62798546  1.14001268]\n",
      " [-1.06101789  0.44219337  0.1329549   1.18425933]\n",
      " [ 1.42362442  1.60461607 -2.0553823  -1.53699695]\n",
      " [-0.11128575 -0.65813802  1.74995517 -0.11816316]]\n"
     ]
    }
   ],
   "source": [
    "#checking if matrix invertible:\n",
    "try:\n",
    "    print(np.linalg.inv(P))\n",
    "except:\n",
    "    print('The matrix is not invertable. Create another one.')"
   ]
  },
  {
   "cell_type": "code",
   "execution_count": 109,
   "metadata": {},
   "outputs": [],
   "source": [
    "class MyLinearRegression_obfuscated:\n",
    "    \n",
    "    def __init__(self, obfuscation):\n",
    "        \n",
    "        self.weights = None\n",
    "        self.obfus = obfuscation\n",
    "    \n",
    "    def fit(self, X, y, P):\n",
    "        \n",
    "        if self.obfus == True:\n",
    "        # adding the unities\n",
    "            X2 = np.append(np.ones([len(X.dot(P)), 1]), X.dot(P), axis=1)            \n",
    "        else:\n",
    "            X2 = np.append(np.ones([len(X), 1]), X, axis=1)\n",
    "            \n",
    "        self.weights = np.linalg.inv(np.dot(X2.T, X2)).dot(X2.T).dot(y)\n",
    "\n",
    "    def predict(self, X, P):\n",
    "        \n",
    "        # adding the unities\n",
    "        if self.obfus == True:\n",
    "            X2 = np.append(np.ones([len(X.dot(P)), 1]), X.dot(P), axis=1)\n",
    "        else:\n",
    "            X2 = np.append(np.ones([len(X), 1]), X, axis=1)\n",
    "        y_pred = X2.dot(self.weights)\n",
    "        \n",
    "        return y_pred"
   ]
  },
  {
   "cell_type": "code",
   "execution_count": 110,
   "metadata": {},
   "outputs": [],
   "source": [
    "def eval_regressor(y_true, y_pred):\n",
    "    \n",
    "    rmse = math.sqrt(sklearn.metrics.mean_squared_error(y_true, y_pred))\n",
    "    print(f'RMSE: {rmse:.2f}')\n",
    "    \n",
    "    r2_score = math.sqrt(sklearn.metrics.r2_score(y_true, y_pred))\n",
    "    print(f'R2: {r2_score:.2f}')   "
   ]
  },
  {
   "cell_type": "code",
   "execution_count": 111,
   "metadata": {},
   "outputs": [
    {
     "name": "stdout",
     "output_type": "stream",
     "text": [
      "[-0.97736667  0.09751926  0.00462479 -0.29280775  0.21045224]\n",
      "RMSE: 0.36\n",
      "R2: 0.66\n"
     ]
    }
   ],
   "source": [
    "X = df[['age', 'gender', 'income', 'family_members']].to_numpy()\n",
    "y = df['insurance_benefits'].to_numpy()\n",
    "X_encrypted = X.dot(P)\n",
    "\n",
    "X_train, X_test, y_train, y_test = train_test_split(X_encrypted, y, test_size=0.3, random_state=12345)\n",
    "\n",
    "obfuscation = True\n",
    "lr = MyLinearRegression_obfuscated(obfuscation)\n",
    "\n",
    "lr.fit(X_train, y_train, P)\n",
    "print(lr.weights)\n",
    "\n",
    "y_test_pred = lr.predict(X_test, P)\n",
    "eval_regressor(y_test, y_test_pred)"
   ]
  },
  {
   "cell_type": "code",
   "execution_count": 112,
   "metadata": {},
   "outputs": [
    {
     "name": "stdout",
     "output_type": "stream",
     "text": [
      "[-0.97736673 -0.02714044 -0.04374256  0.1010488  -0.01541924]\n",
      "RMSE: 0.36\n",
      "R2: 0.66\n"
     ]
    }
   ],
   "source": [
    "obfuscation = False\n",
    "lr = MyLinearRegression_obfuscated(obfuscation)\n",
    "\n",
    "lr.fit(X_train, y_train, P)\n",
    "print(lr.weights)\n",
    "\n",
    "y_test_pred = lr.predict(X_test, P)\n",
    "eval_regressor(y_test, y_test_pred)"
   ]
  },
  {
   "cell_type": "markdown",
   "metadata": {},
   "source": [
    "As we can see there is no difference between original and obfuscation data."
   ]
  },
  {
   "cell_type": "markdown",
   "metadata": {},
   "source": [
    "# Conclusions"
   ]
  },
  {
   "cell_type": "markdown",
   "metadata": {},
   "source": [
    "We have a dataset from the insurance company. During loading and checking the data we can see that there were no missing values or abnormal values. Changes were made in the preprocessing were minimal, i just corrected titles of columns, data type and dropped duplicates. Upon EDA I couldn't see any usefull information, in this case I think need to look closely to the data, build more visualisations and make more deep analisys. The 4 tasks were solved during this project.\n",
    "\n",
    "  **- Task 1: Find customers who are similar to a given customer. This will help the company's agents with marketing.**\n",
    "  \n",
    "  A similar client have been found with help of knn algorithm. As we were able to see scaling has much more impact on the resulats then metric (euclidean  and manhatten distance). The reason is we have a float type for income and int type for age, gender and family members columns. Float type gives us a wide range which has a big weight.\n",
    "  \n",
    "  **- Task 2: Predict whether a new customer is likely to receive an insurance benefit. Can a prediction model do better than a dummy model?** \n",
    "  \n",
    "  The KNeighborsClassifier gives a good result here. Besides that interesting that scaled dataset showed independence from the amount of neighbors.\n",
    "  \n",
    "  **- Task 3: Predict the number of insurance benefits a new customer is likely to receive using a linear regression model.**\n",
    "  \n",
    "  Linear models doesn't predict good here. We can try use other models to see which results we will have.\n",
    "  \n",
    "  **- Task 4: Protect clients' personal data without breaking the model from the previous task.**  \n",
    "  \n",
    "  Original and obfuscation data were running with the Linear regression model and no differences in results showed up."
   ]
  },
  {
   "cell_type": "markdown",
   "metadata": {},
   "source": [
    "# Appendices \n",
    "\n",
    "## Appendix A: Writing Formulas in Jupyter Notebooks"
   ]
  },
  {
   "cell_type": "markdown",
   "metadata": {},
   "source": [
    "You can write formulas in your Jupyter Notebook in a markup language provided by a high-quality publishing system called $\\LaTeX$ (pronounced \"Lah-tech\"), and they will look like formulas in textbooks.\n",
    "\n",
    "To put a formula in a text, put the dollar sign (\\\\$) before and after the formula's text e.g. $\\frac{1}{2} \\times \\frac{3}{2} = \\frac{3}{4}$ or $y = x^2, x \\ge 1$.\n",
    "\n",
    "If a formula should be in its own paragraph, put the double dollar sign (\\\\$\\\\$) before and after the formula text e.g.\n",
    "\n",
    "$$\n",
    "\\bar{x} = \\frac{1}{n}\\sum_{i=1}^{n} x_i.\n",
    "$$\n",
    "\n",
    "The markup language of [LaTeX](https://en.wikipedia.org/wiki/LaTeX) is very popular among people who use formulas in their articles, books and texts. It can be complex but its basics are easy. Check this two page [cheatsheet](http://tug.ctan.org/info/undergradmath/undergradmath.pdf) for learning how to compose the most common formulas."
   ]
  },
  {
   "cell_type": "markdown",
   "metadata": {},
   "source": [
    "## Appendix B: Properties of Matrices"
   ]
  },
  {
   "cell_type": "markdown",
   "metadata": {},
   "source": [
    "Matrices have many properties in Linear Algebra. A few of them are listed here which can help with the analytical proof in this project."
   ]
  },
  {
   "cell_type": "markdown",
   "metadata": {},
   "source": [
    "<table>\n",
    "<tr>\n",
    "<td>Distributivity</td><td>$A(B+C)=AB+AC$</td>\n",
    "</tr>\n",
    "<tr>\n",
    "<td>Non-commutativity</td><td>$AB \\neq BA$</td>\n",
    "</tr>\n",
    "<tr>\n",
    "<td>Associative property of multiplication</td><td>$(AB)C = A(BC)$</td>\n",
    "</tr>\n",
    "<tr>\n",
    "<td>Multiplicative identity property</td><td>$IA = AI = A$</td>\n",
    "</tr>\n",
    "<tr>\n",
    "<td></td><td>$A^{-1}A = AA^{-1} = I$\n",
    "</td>\n",
    "</tr>    \n",
    "<tr>\n",
    "<td></td><td>$(AB)^{-1} = B^{-1}A^{-1}$</td>\n",
    "</tr>    \n",
    "<tr>\n",
    "<td>Reversivity of the transpose of a product of matrices,</td><td>$(AB)^T = B^TA^T$</td>\n",
    "</tr>    \n",
    "</table>"
   ]
  },
  {
   "cell_type": "code",
   "execution_count": null,
   "metadata": {},
   "outputs": [],
   "source": []
  }
 ],
 "metadata": {
  "ExecuteTimeLog": [
   {
    "duration": 51,
    "start_time": "2022-05-31T13:43:52.417Z"
   },
   {
    "duration": 7,
    "start_time": "2022-05-31T13:44:03.916Z"
   },
   {
    "duration": 4078,
    "start_time": "2022-05-31T13:44:11.657Z"
   },
   {
    "duration": 1524,
    "start_time": "2022-05-31T13:44:27.116Z"
   },
   {
    "duration": 62,
    "start_time": "2022-05-31T13:44:30.969Z"
   },
   {
    "duration": 4,
    "start_time": "2022-05-31T13:44:32.704Z"
   },
   {
    "duration": 14,
    "start_time": "2022-05-31T13:44:34.299Z"
   },
   {
    "duration": 13,
    "start_time": "2022-05-31T13:44:35.784Z"
   },
   {
    "duration": 5,
    "start_time": "2022-05-31T13:44:37.601Z"
   },
   {
    "duration": 10,
    "start_time": "2022-05-31T13:44:46.801Z"
   },
   {
    "duration": 7,
    "start_time": "2022-05-31T13:45:27.627Z"
   },
   {
    "duration": 5,
    "start_time": "2022-05-31T13:45:45.279Z"
   },
   {
    "duration": 10,
    "start_time": "2022-05-31T13:45:56.704Z"
   },
   {
    "duration": 23,
    "start_time": "2022-05-31T13:46:28.636Z"
   },
   {
    "duration": 2,
    "start_time": "2022-05-31T14:12:54.466Z"
   },
   {
    "duration": 4,
    "start_time": "2022-05-31T14:12:55.302Z"
   },
   {
    "duration": 10,
    "start_time": "2022-05-31T14:13:02.039Z"
   },
   {
    "duration": 11,
    "start_time": "2022-05-31T14:13:03.053Z"
   },
   {
    "duration": 71,
    "start_time": "2022-05-31T14:14:06.804Z"
   },
   {
    "duration": 3,
    "start_time": "2022-05-31T14:14:25.380Z"
   },
   {
    "duration": 10,
    "start_time": "2022-05-31T14:14:26.881Z"
   },
   {
    "duration": 15,
    "start_time": "2022-05-31T14:14:27.500Z"
   },
   {
    "duration": 13,
    "start_time": "2022-05-31T14:14:29.872Z"
   },
   {
    "duration": 4,
    "start_time": "2022-05-31T14:15:14.189Z"
   },
   {
    "duration": 20,
    "start_time": "2022-05-31T14:15:25.084Z"
   },
   {
    "duration": 20,
    "start_time": "2022-05-31T14:16:16.977Z"
   },
   {
    "duration": 20,
    "start_time": "2022-05-31T14:16:44.072Z"
   },
   {
    "duration": 27,
    "start_time": "2022-05-31T14:17:48.930Z"
   },
   {
    "duration": 34,
    "start_time": "2022-05-31T14:18:26.762Z"
   },
   {
    "duration": 52,
    "start_time": "2022-05-31T14:19:12.511Z"
   },
   {
    "duration": 380,
    "start_time": "2022-05-31T14:24:46.735Z"
   },
   {
    "duration": 19,
    "start_time": "2022-05-31T14:25:59.123Z"
   },
   {
    "duration": 26,
    "start_time": "2022-05-31T14:26:21.448Z"
   },
   {
    "duration": 7,
    "start_time": "2022-05-31T14:33:38.397Z"
   },
   {
    "duration": 13,
    "start_time": "2022-05-31T14:34:04.335Z"
   },
   {
    "duration": 16,
    "start_time": "2022-05-31T14:34:35.167Z"
   },
   {
    "duration": 12,
    "start_time": "2022-05-31T14:34:50.096Z"
   },
   {
    "duration": 7,
    "start_time": "2022-05-31T14:35:06.285Z"
   },
   {
    "duration": 19,
    "start_time": "2022-05-31T14:37:51.529Z"
   },
   {
    "duration": 413,
    "start_time": "2022-05-31T14:40:37.215Z"
   },
   {
    "duration": 15,
    "start_time": "2022-05-31T14:41:34.908Z"
   },
   {
    "duration": 3143,
    "start_time": "2022-05-31T14:54:17.344Z"
   },
   {
    "duration": 1330,
    "start_time": "2022-05-31T14:54:20.489Z"
   },
   {
    "duration": 29,
    "start_time": "2022-05-31T14:54:21.821Z"
   },
   {
    "duration": 5,
    "start_time": "2022-05-31T14:54:21.852Z"
   },
   {
    "duration": 34,
    "start_time": "2022-05-31T14:54:21.863Z"
   },
   {
    "duration": 9,
    "start_time": "2022-05-31T14:54:21.899Z"
   },
   {
    "duration": 4,
    "start_time": "2022-05-31T14:54:21.910Z"
   },
   {
    "duration": 9,
    "start_time": "2022-05-31T14:54:21.916Z"
   },
   {
    "duration": 6,
    "start_time": "2022-05-31T14:54:21.927Z"
   },
   {
    "duration": 5,
    "start_time": "2022-05-31T14:54:21.936Z"
   },
   {
    "duration": 28,
    "start_time": "2022-05-31T14:54:21.942Z"
   },
   {
    "duration": 26,
    "start_time": "2022-05-31T14:54:21.977Z"
   },
   {
    "duration": 3754,
    "start_time": "2022-05-31T14:54:22.004Z"
   },
   {
    "duration": 3,
    "start_time": "2022-05-31T14:54:25.760Z"
   },
   {
    "duration": 40,
    "start_time": "2022-05-31T14:54:25.766Z"
   },
   {
    "duration": 19,
    "start_time": "2022-05-31T14:54:25.807Z"
   },
   {
    "duration": 11,
    "start_time": "2022-05-31T14:54:25.827Z"
   },
   {
    "duration": 25,
    "start_time": "2022-05-31T14:54:25.840Z"
   },
   {
    "duration": 24,
    "start_time": "2022-05-31T14:54:25.866Z"
   },
   {
    "duration": 41,
    "start_time": "2022-05-31T14:54:25.892Z"
   },
   {
    "duration": 38,
    "start_time": "2022-05-31T14:54:25.935Z"
   },
   {
    "duration": 59,
    "start_time": "2022-05-31T14:54:25.975Z"
   },
   {
    "duration": 39,
    "start_time": "2022-05-31T14:54:26.035Z"
   },
   {
    "duration": 36,
    "start_time": "2022-05-31T14:54:26.076Z"
   },
   {
    "duration": 7,
    "start_time": "2022-05-31T14:54:26.114Z"
   },
   {
    "duration": 9,
    "start_time": "2022-05-31T14:54:26.122Z"
   },
   {
    "duration": 5,
    "start_time": "2022-05-31T14:54:26.132Z"
   },
   {
    "duration": 3,
    "start_time": "2022-05-31T14:54:26.140Z"
   },
   {
    "duration": 10,
    "start_time": "2022-05-31T14:54:26.144Z"
   },
   {
    "duration": 44,
    "start_time": "2022-05-31T14:54:26.156Z"
   },
   {
    "duration": 0,
    "start_time": "2022-05-31T14:54:26.202Z"
   },
   {
    "duration": 0,
    "start_time": "2022-05-31T14:54:26.203Z"
   },
   {
    "duration": 0,
    "start_time": "2022-05-31T14:54:26.204Z"
   },
   {
    "duration": 0,
    "start_time": "2022-05-31T14:54:26.206Z"
   },
   {
    "duration": 0,
    "start_time": "2022-05-31T14:54:26.207Z"
   },
   {
    "duration": 0,
    "start_time": "2022-05-31T14:54:26.208Z"
   },
   {
    "duration": 4,
    "start_time": "2022-05-31T14:55:17.818Z"
   },
   {
    "duration": 5,
    "start_time": "2022-05-31T14:55:19.974Z"
   },
   {
    "duration": 10,
    "start_time": "2022-05-31T14:56:13.420Z"
   },
   {
    "duration": 26,
    "start_time": "2022-05-31T14:56:31.195Z"
   },
   {
    "duration": 1225,
    "start_time": "2022-05-31T14:58:23.454Z"
   },
   {
    "duration": 144,
    "start_time": "2022-05-31T14:59:22.255Z"
   },
   {
    "duration": 4,
    "start_time": "2022-05-31T14:59:46.781Z"
   },
   {
    "duration": 156,
    "start_time": "2022-05-31T14:59:59.147Z"
   },
   {
    "duration": 1483,
    "start_time": "2022-05-31T15:01:48.904Z"
   },
   {
    "duration": 141,
    "start_time": "2022-05-31T15:02:10.382Z"
   },
   {
    "duration": 13,
    "start_time": "2022-05-31T15:04:01.444Z"
   },
   {
    "duration": 4,
    "start_time": "2022-05-31T15:04:06.118Z"
   },
   {
    "duration": 22,
    "start_time": "2022-05-31T15:04:30.727Z"
   },
   {
    "duration": 5,
    "start_time": "2022-05-31T15:05:09.475Z"
   },
   {
    "duration": 12,
    "start_time": "2022-05-31T15:05:17.793Z"
   },
   {
    "duration": 12,
    "start_time": "2022-05-31T15:07:28.338Z"
   },
   {
    "duration": 5,
    "start_time": "2022-05-31T15:09:12.643Z"
   },
   {
    "duration": 4,
    "start_time": "2022-05-31T15:09:13.352Z"
   },
   {
    "duration": 6,
    "start_time": "2022-05-31T15:09:14.622Z"
   },
   {
    "duration": 4,
    "start_time": "2022-05-31T15:09:16.225Z"
   },
   {
    "duration": 5,
    "start_time": "2022-05-31T15:09:39.002Z"
   },
   {
    "duration": 8,
    "start_time": "2022-05-31T15:11:00.327Z"
   },
   {
    "duration": 5,
    "start_time": "2022-05-31T15:11:18.909Z"
   },
   {
    "duration": 4,
    "start_time": "2022-05-31T15:58:44.725Z"
   },
   {
    "duration": 4,
    "start_time": "2022-05-31T15:58:49.399Z"
   },
   {
    "duration": 5,
    "start_time": "2022-05-31T15:59:19.590Z"
   },
   {
    "duration": 6,
    "start_time": "2022-05-31T15:59:39.778Z"
   },
   {
    "duration": 4,
    "start_time": "2022-05-31T15:59:55.983Z"
   },
   {
    "duration": 22,
    "start_time": "2022-05-31T16:00:08.350Z"
   },
   {
    "duration": 6,
    "start_time": "2022-05-31T16:00:26.590Z"
   },
   {
    "duration": 4231,
    "start_time": "2022-05-31T16:17:19.906Z"
   },
   {
    "duration": 4,
    "start_time": "2022-05-31T16:17:24.140Z"
   },
   {
    "duration": 47,
    "start_time": "2022-05-31T16:17:24.147Z"
   },
   {
    "duration": 4,
    "start_time": "2022-05-31T16:17:24.196Z"
   },
   {
    "duration": 16,
    "start_time": "2022-05-31T16:17:24.202Z"
   },
   {
    "duration": 18,
    "start_time": "2022-05-31T16:17:24.220Z"
   },
   {
    "duration": 35,
    "start_time": "2022-05-31T16:17:24.240Z"
   },
   {
    "duration": 16,
    "start_time": "2022-05-31T16:17:24.277Z"
   },
   {
    "duration": 9,
    "start_time": "2022-05-31T16:17:24.295Z"
   },
   {
    "duration": 7,
    "start_time": "2022-05-31T16:17:24.306Z"
   },
   {
    "duration": 13,
    "start_time": "2022-05-31T16:17:24.314Z"
   },
   {
    "duration": 30,
    "start_time": "2022-05-31T16:17:24.328Z"
   },
   {
    "duration": 3849,
    "start_time": "2022-05-31T16:17:24.363Z"
   },
   {
    "duration": 2,
    "start_time": "2022-05-31T16:17:28.214Z"
   },
   {
    "duration": 8,
    "start_time": "2022-05-31T16:17:28.218Z"
   },
   {
    "duration": 28,
    "start_time": "2022-05-31T16:17:28.227Z"
   },
   {
    "duration": 26,
    "start_time": "2022-05-31T16:17:28.260Z"
   },
   {
    "duration": 22,
    "start_time": "2022-05-31T16:17:28.287Z"
   },
   {
    "duration": 22,
    "start_time": "2022-05-31T16:17:28.311Z"
   },
   {
    "duration": 55,
    "start_time": "2022-05-31T16:17:28.335Z"
   },
   {
    "duration": 28,
    "start_time": "2022-05-31T16:17:28.391Z"
   },
   {
    "duration": 68,
    "start_time": "2022-05-31T16:17:28.420Z"
   },
   {
    "duration": 27,
    "start_time": "2022-05-31T16:17:28.490Z"
   },
   {
    "duration": 38,
    "start_time": "2022-05-31T16:17:28.518Z"
   },
   {
    "duration": 12,
    "start_time": "2022-05-31T16:17:28.569Z"
   },
   {
    "duration": 18,
    "start_time": "2022-05-31T16:17:28.583Z"
   },
   {
    "duration": 6,
    "start_time": "2022-05-31T16:17:28.603Z"
   },
   {
    "duration": 6,
    "start_time": "2022-05-31T16:17:28.613Z"
   },
   {
    "duration": 4,
    "start_time": "2022-05-31T16:17:28.621Z"
   },
   {
    "duration": 11,
    "start_time": "2022-05-31T16:17:28.627Z"
   },
   {
    "duration": 36,
    "start_time": "2022-05-31T16:17:28.654Z"
   },
   {
    "duration": 1400,
    "start_time": "2022-05-31T16:17:28.692Z"
   },
   {
    "duration": 162,
    "start_time": "2022-05-31T16:17:30.093Z"
   },
   {
    "duration": 1644,
    "start_time": "2022-05-31T16:17:30.256Z"
   },
   {
    "duration": 175,
    "start_time": "2022-05-31T16:17:31.902Z"
   },
   {
    "duration": 6,
    "start_time": "2022-05-31T16:17:32.079Z"
   },
   {
    "duration": 7,
    "start_time": "2022-05-31T16:17:32.086Z"
   },
   {
    "duration": 15,
    "start_time": "2022-05-31T16:17:32.095Z"
   },
   {
    "duration": 144,
    "start_time": "2022-05-31T16:17:32.112Z"
   },
   {
    "duration": 31,
    "start_time": "2022-05-31T16:17:32.257Z"
   },
   {
    "duration": 17,
    "start_time": "2022-05-31T16:17:32.362Z"
   },
   {
    "duration": 7,
    "start_time": "2022-05-31T16:17:32.380Z"
   },
   {
    "duration": 8,
    "start_time": "2022-05-31T16:17:32.388Z"
   },
   {
    "duration": 10,
    "start_time": "2022-05-31T16:17:32.398Z"
   },
   {
    "duration": 11,
    "start_time": "2022-05-31T16:17:32.454Z"
   },
   {
    "duration": 89,
    "start_time": "2022-05-31T16:17:32.467Z"
   },
   {
    "duration": 27,
    "start_time": "2022-05-31T16:17:32.558Z"
   },
   {
    "duration": 6,
    "start_time": "2022-05-31T16:17:32.587Z"
   },
   {
    "duration": 72,
    "start_time": "2022-05-31T16:17:32.595Z"
   },
   {
    "duration": 85,
    "start_time": "2022-05-31T16:17:32.670Z"
   },
   {
    "duration": 23,
    "start_time": "2022-05-31T16:17:32.757Z"
   },
   {
    "duration": 73,
    "start_time": "2022-05-31T16:17:32.785Z"
   }
  ],
  "kernelspec": {
   "display_name": "Python 3 (ipykernel)",
   "language": "python",
   "name": "python3"
  },
  "language_info": {
   "codemirror_mode": {
    "name": "ipython",
    "version": 3
   },
   "file_extension": ".py",
   "mimetype": "text/x-python",
   "name": "python",
   "nbconvert_exporter": "python",
   "pygments_lexer": "ipython3",
   "version": "3.9.7"
  },
  "toc": {
   "base_numbering": 1,
   "nav_menu": {},
   "number_sections": true,
   "sideBar": true,
   "skip_h1_title": true,
   "title_cell": "Table of Contents",
   "title_sidebar": "Contents",
   "toc_cell": false,
   "toc_position": {},
   "toc_section_display": true,
   "toc_window_display": false
  }
 },
 "nbformat": 4,
 "nbformat_minor": 4
}
